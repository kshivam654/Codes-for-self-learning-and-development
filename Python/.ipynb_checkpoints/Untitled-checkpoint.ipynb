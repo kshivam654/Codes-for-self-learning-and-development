{
 "cells": [
  {
   "cell_type": "code",
   "execution_count": 14,
   "id": "01bc57f1",
   "metadata": {},
   "outputs": [
    {
     "name": "stdout",
     "output_type": "stream",
     "text": [
      "14.9 µs ± 195 ns per loop (mean ± std. dev. of 7 runs, 100000 loops each)\n"
     ]
    }
   ],
   "source": [
    "import numpy as np\n",
    "# input two matrices\n",
    "mat1 = range(0,32)\n",
    "mat2 = range(0,32)\n",
    "%timeit np.dot(mat1,mat2)"
   ]
  },
  {
   "cell_type": "code",
   "execution_count": 5,
   "id": "d16fcb06",
   "metadata": {},
   "outputs": [
    {
     "name": "stdout",
     "output_type": "stream",
     "text": [
      "Collecting numpy\n",
      "  Downloading numpy-1.21.4-cp39-cp39-macosx_11_0_arm64.whl (12.4 MB)\n",
      "     |████████████████████████████████| 12.4 MB 2.0 MB/s            \n",
      "\u001b[?25hInstalling collected packages: numpy\n",
      "Successfully installed numpy-1.21.4\n"
     ]
    }
   ],
   "source": [
    "import sys\n",
    "!{sys.executable} -m pip install numpy"
   ]
  },
  {
   "cell_type": "code",
   "execution_count": null,
   "id": "9d0c9407",
   "metadata": {},
   "outputs": [],
   "source": [
    "def function(frequencies, filterRange):\n",
    "    count = 0\n",
    "    for frequency in frequencies:\n",
    "        flag = False\n",
    "        for start, end in filterRange:\n",
    "            if frequency < start or frequency > end:\n",
    "                flag = True\n",
    "                break\n",
    "        if not flag:\n",
    "            count += 1\n",
    "    return count"
   ]
  },
  {
   "cell_type": "code",
   "execution_count": 1,
   "id": "3068373f",
   "metadata": {},
   "outputs": [],
   "source": [
    "def function(text):\n",
    "    res = []\n",
    "    count = 0\n",
    "    subcount = 0\n",
    "    for s in text:\n",
    "        h = s.split(' ')[0]\n",
    "        if h == '#':\n",
    "            count += 1\n",
    "            subcount = 0\n",
    "            res.append('{}. {}'.format(count, s.split(' ', 1)[1]))\n",
    "        elif h =='##':\n",
    "            subcount += 1\n",
    "            res.append('{}.{}. {}'.format(count, subcount, s.split(' ', 1)[1]))\n",
    "    return res"
   ]
  },
  {
   "cell_type": "code",
   "execution_count": 9,
   "id": "ec2a3a91",
   "metadata": {},
   "outputs": [
    {
     "name": "stdout",
     "output_type": "stream",
     "text": [
      "1 1\n",
      "3 1\n",
      "5 1\n",
      "6 1\n",
      "8 6\n",
      "9 6\n",
      "13 6\n",
      "3\n"
     ]
    }
   ],
   "source": [
    "awards = [1,13,6,8,9,3,5]\n",
    "k = 4\n",
    "awards.sort()\n",
    "c = 0\n",
    "mini = awards[0]\n",
    "maxi = awards[0]\n",
    "for i in range(len(awards)):\n",
    "    mini = min(mini, awards[i])\n",
    "    maxi = max(maxi, awards[i])\n",
    "    print(maxi, mini)\n",
    "    if abs(maxi-mini) > k:\n",
    "        c += 1\n",
    "        mini = awards[i]\n",
    "        maxi = awards[i]\n",
    "print(c+1)"
   ]
  },
  {
   "cell_type": "code",
   "execution_count": 1,
   "id": "693da4ce",
   "metadata": {},
   "outputs": [],
   "source": [
    "a = [1,2,3]\n",
    "b = [2,2,2]\n",
    "c = a+b"
   ]
  },
  {
   "cell_type": "code",
   "execution_count": 2,
   "id": "766c95d1",
   "metadata": {},
   "outputs": [
    {
     "data": {
      "text/plain": [
       "[1, 2, 3, 2, 2, 2]"
      ]
     },
     "execution_count": 2,
     "metadata": {},
     "output_type": "execute_result"
    }
   ],
   "source": [
    "c"
   ]
  },
  {
   "cell_type": "code",
   "execution_count": 13,
   "id": "e2809311",
   "metadata": {},
   "outputs": [
    {
     "name": "stdout",
     "output_type": "stream",
     "text": [
      "(1,)\n",
      "(2,)\n",
      "(3,)\n",
      "(1, 2)\n",
      "(1, 3)\n",
      "(2, 3)\n",
      "(1, 2, 3)\n",
      "24\n"
     ]
    }
   ],
   "source": [
    "from itertools import combinations\n",
    "\n",
    "nums = [1,2,3]\n",
    "s = 0\n",
    "for i in range(1, len(nums)+1):\n",
    "    for com in combinations(nums, i):\n",
    "        print(com)\n",
    "        s += sum(com)\n",
    "print(s)"
   ]
  },
  {
   "cell_type": "code",
   "execution_count": 20,
   "id": "1f85c876",
   "metadata": {
    "scrolled": true
   },
   "outputs": [
    {
     "name": "stdout",
     "output_type": "stream",
     "text": [
      "[2, 4, 5]\n"
     ]
    }
   ],
   "source": [
    "import collections\n",
    "arr = [2,4,5,1,4,6,6,2,1,0]\n",
    "k = 3\n",
    "def fun(arr, k):\n",
    "    d = collections.defaultdict(lambda: [])\n",
    "    for i in range(len(arr)-k+1):\n",
    "        myArr = arr[i:i+k]\n",
    "#         print(myArr, sum(myArr))\n",
    "        d[sum(myArr)].append(myArr)\n",
    "    maxKey = float('-inf')\n",
    "    for key in d:\n",
    "        maxKey = max(maxKey, key)\n",
    "    targetedKey = maxKey//2\n",
    "    res = []\n",
    "    for key in d:\n",
    "        if key >= targetedKey:\n",
    "#             return d[key][0]\n",
    "            res.extend([l for l in d[key]])\n",
    "    return res[0]\n",
    "print(fun(arr, k))"
   ]
  },
  {
   "cell_type": "code",
   "execution_count": 18,
   "id": "56e6277c",
   "metadata": {},
   "outputs": [],
   "source": [
    "d = {}\n",
    "ele = 'b'\n",
    "if ele not in d:\n",
    "    d[ele] = ['a']\n",
    "else:\n",
    "    d[ele].append('a')"
   ]
  },
  {
   "cell_type": "code",
   "execution_count": 33,
   "id": "8ffdc9c2",
   "metadata": {},
   "outputs": [
    {
     "name": "stdout",
     "output_type": "stream",
     "text": [
      "[1, 3, 5]\n",
      "[[0, 1], [0, 3], [2, 3], [0, 5], [2, 5], [4, 5]]\n"
     ]
    }
   ],
   "source": [
    "def printAllEqualZeroAndOne(arr):\n",
    "    count = 0\n",
    "    curSum = 0\n",
    "    finds = []\n",
    "    for i, ele in enumerate(arr):\n",
    "        if ele == 0:\n",
    "            arr[i] = -1\n",
    "        curSum += arr[i]\n",
    "        if curSum == 0:\n",
    "            finds.append(i)\n",
    "    print(finds)\n",
    "    ranges = []\n",
    "#     ranges.append([0, finds[0]])\n",
    "    for i in range(len(finds)):\n",
    "        ranges.append([0, finds[i]])\n",
    "        for j in range(0, i):\n",
    "            ranges.append([finds[j]+1, finds[i]])\n",
    "    print(ranges)\n",
    "printAllEqualZeroAndOne([1,0,0,1,0,1,1])"
   ]
  },
  {
   "cell_type": "code",
   "execution_count": 34,
   "id": "86a886bb",
   "metadata": {},
   "outputs": [
    {
     "name": "stdout",
     "output_type": "stream",
     "text": [
      "[1, 3, 5, 6]\n"
     ]
    }
   ],
   "source": [
    "def incrementIntervals(a, intervals):\n",
    "    gaps = [0 for _ in range(len(a)+1)]\n",
    "    for interval in intervals:\n",
    "        start, end = interval\n",
    "        gaps[start] += 1\n",
    "        gaps[end+1] -= 1\n",
    "    for i in range(1, len(gaps)):\n",
    "        gaps[i] += gaps[i-1]\n",
    "    for i in range(len(a)):\n",
    "        a[i] += gaps[i]\n",
    "    return a\n",
    "print(incrementIntervals([1,2,3,4], [[1,3], [2,3]]))"
   ]
  },
  {
   "cell_type": "code",
   "execution_count": 43,
   "id": "8bcd81ff",
   "metadata": {},
   "outputs": [
    {
     "name": "stdout",
     "output_type": "stream",
     "text": [
      "wertf\n"
     ]
    }
   ],
   "source": [
    "def alienOrder(words):\n",
    "    adj = {c:set() for word in words for c in word}\n",
    "    for i in range(len(words)-1):\n",
    "        w1, w2 = words[i], words[i+1]\n",
    "        minLen = min(len(w1), len(w2))\n",
    "        if len(w1) > len(w2) and w1[:minLen] == w2[:minLen]:\n",
    "            return ''\n",
    "        for j in range(minLen):\n",
    "            if w1[j] != w2[j]:\n",
    "                adj[w1[j]].add(w2[j])\n",
    "                break\n",
    "    visit = {} #False=visited, True=current Path\n",
    "    res = []\n",
    "    def dfs(c):\n",
    "        if c in visit:\n",
    "            return visit[c]\n",
    "        visit[c] = True\n",
    "        \n",
    "        for nei in adj[c]:\n",
    "            if dfs(nei):\n",
    "                return True\n",
    "        \n",
    "        visit[c] = False\n",
    "        res.append(c)\n",
    "    for c in adj:\n",
    "        if dfs(c):\n",
    "            return ''\n",
    "    res.reverse()\n",
    "    return ''.join(res)\n",
    "print(alienOrder(['wrt', 'wrf', 'er', 'ett', 'rftt']))"
   ]
  },
  {
   "cell_type": "code",
   "execution_count": 3,
   "id": "d6d43d8b",
   "metadata": {},
   "outputs": [
    {
     "name": "stdout",
     "output_type": "stream",
     "text": [
      "22\n",
      "Integer: 22, Float: 00\n"
     ]
    }
   ],
   "source": [
    "num = input()\n",
    "if '.' in num:\n",
    "    num = num.split('.')\n",
    "    print('Integer: {}, Float: {}'.format(num[0], num[1]))\n",
    "else:\n",
    "    print('Integer: {}, Float: {}'.format(num, '00'))"
   ]
  },
  {
   "cell_type": "code",
   "execution_count": 4,
   "id": "8be41a1b",
   "metadata": {},
   "outputs": [
    {
     "name": "stdout",
     "output_type": "stream",
     "text": [
      "5\n",
      "3\n",
      "21\n"
     ]
    }
   ],
   "source": [
    "def fibonacci(n):\n",
    "    a = 0\n",
    "    b = 1\n",
    "    if n < 0:\n",
    "        print(\"Incorrect input\")\n",
    "    elif n == 0:\n",
    "        return a\n",
    "    elif n == 1:\n",
    "        return b\n",
    "    else:\n",
    "        for i in range(2,n+1):\n",
    "            c = a + b\n",
    "            a = b\n",
    "            b = c\n",
    "        return b\n",
    "a = int(input())\n",
    "b = int(input())\n",
    "print(fibonacci(a+b))"
   ]
  },
  {
   "cell_type": "code",
   "execution_count": 2,
   "id": "b4b6317c",
   "metadata": {},
   "outputs": [
    {
     "name": "stdout",
     "output_type": "stream",
     "text": [
      "Webapplication\n",
      "None\n"
     ]
    }
   ],
   "source": [
    "from collections import Counter\n",
    "def mostFrequentCharacters(text):\n",
    "    text = text.replace(' ', '')\n",
    "    print(text)\n",
    "print(mostFrequentCharacters('Web application'))"
   ]
  },
  {
   "cell_type": "code",
   "execution_count": 7,
   "id": "4b2c2934",
   "metadata": {},
   "outputs": [
    {
     "name": "stdout",
     "output_type": "stream",
     "text": [
      "5\n",
      "3\n",
      "3\n",
      "0\n"
     ]
    }
   ],
   "source": [
    "def fun(curr, new):\n",
    "    if new > 0 and curr != 10:\n",
    "        left = 10-curr\n",
    "        if left <= new:\n",
    "            return left, new-left\n",
    "        else:\n",
    "            return new, 0\n",
    "    else:\n",
    "        return 0, new\n",
    "def queueAllAlotment(firstcounter, secondcounter, thridcounter, newarrival):\n",
    "    res1, res2, res3, res4 = 0, 0, 0, 0\n",
    "    if newarrival > 0:\n",
    "        res1, newarrival = fun(firstcounter, newarrival)\n",
    "    if newarrival > 0:\n",
    "        res2, newarrival = fun(secondcounter, newarrival)\n",
    "    if newarrival > 0:\n",
    "        res3, newarrival = fun(thridcounter, newarrival)\n",
    "    print(res1)\n",
    "    print(res2)\n",
    "    print(res3)\n",
    "    print(newarrival)\n",
    "queueAllAlotment(5,7,3,11)"
   ]
  },
  {
   "cell_type": "code",
   "execution_count": null,
   "id": "7d21b3b5",
   "metadata": {},
   "outputs": [],
   "source": [
    "def isSubtree(s, t):\n",
    "    if not s:\n",
    "        return False\n",
    "    if isSameTree(s, t):\n",
    "        return True\n",
    "    return isSubTree(s.left, t) or isSubTree(s.right, t)\n",
    "def isSametree(p, q):\n",
    "    if p and q:\n",
    "        return q.val == p.val and isSametree(p.left, q.left) and isSameTree(p.right, q.right)\n",
    "    return p is q"
   ]
  },
  {
   "cell_type": "code",
   "execution_count": null,
   "id": "8795e471",
   "metadata": {},
   "outputs": [],
   "source": [
    "def findCeleb(n):\n",
    "    indegree = [0 for _ in range(n)]\n",
    "    outdegree([0 for])"
   ]
  }
 ],
 "metadata": {
  "kernelspec": {
   "display_name": "Python 3 (ipykernel)",
   "language": "python",
   "name": "python3"
  },
  "language_info": {
   "codemirror_mode": {
    "name": "ipython",
    "version": 3
   },
   "file_extension": ".py",
   "mimetype": "text/x-python",
   "name": "python",
   "nbconvert_exporter": "python",
   "pygments_lexer": "ipython3",
   "version": "3.9.7"
  }
 },
 "nbformat": 4,
 "nbformat_minor": 5
}
