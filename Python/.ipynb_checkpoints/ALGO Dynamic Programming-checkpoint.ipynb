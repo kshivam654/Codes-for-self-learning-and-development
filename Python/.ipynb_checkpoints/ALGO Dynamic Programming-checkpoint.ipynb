{
 "cells": [
  {
   "cell_type": "code",
   "execution_count": 8,
   "id": "c8f2a265",
   "metadata": {},
   "outputs": [
    {
     "name": "stdout",
     "output_type": "stream",
     "text": [
      "[1, 1, 1, 1, 1, 2, 2, 2, 2, 2, 4]\n",
      "4\n"
     ]
    }
   ],
   "source": [
    "def numberOfWaysToChange(denoms, target):\n",
    "    ways = [0 for _ in range(target+1)]\n",
    "    ways[0] = 1\n",
    "    for denom in denoms:\n",
    "        for amount in range(1, target+1):\n",
    "            if denom <= amount:\n",
    "                ways[amount] += ways[amount-denom]\n",
    "    print(ways)\n",
    "    return ways[-1]\n",
    "print(numberOfWaysToChange([1,5,10,25], 10))"
   ]
  },
  {
   "cell_type": "code",
   "execution_count": 30,
   "id": "cd4de778",
   "metadata": {},
   "outputs": [
    {
     "name": "stdout",
     "output_type": "stream",
     "text": [
      "[0, 1, 1, 2, 1, 2, 2]\n",
      "2\n"
     ]
    }
   ],
   "source": [
    "def minNumberOfCoins(denoms, target):\n",
    "    ways = [float('inf') for _ in range(target+1)]\n",
    "    ways[0] = 0\n",
    "    for denom in denoms:\n",
    "        for amount in range(target+1):\n",
    "            if denom <= amount:\n",
    "                ways[amount] = min(ways[amount], ways[amount-denom]+1)\n",
    "    print(ways)\n",
    "    return ways[-1]\n",
    "print(minNumberOfCoins([1,2,4], 6))"
   ]
  },
  {
   "cell_type": "code",
   "execution_count": 42,
   "id": "ba3eac1b",
   "metadata": {},
   "outputs": [
    {
     "name": "stdout",
     "output_type": "stream",
     "text": [
      "[0, 1, 2, 3]\n",
      "[1, 1, 2, 3]\n",
      "[2, 1, 2, 3]\n",
      "[3, 2, 1, 2]\n",
      "[4, 3, 2, 2]\n",
      "2\n"
     ]
    }
   ],
   "source": [
    "def levenshteinDistance(str1, str2):\n",
    "    edits = [[x for x in range(len(str1)+1)] for y in range(len(str2)+1)]\n",
    "    for i in range(1, len(str2)+1):\n",
    "        edits[i][0] = edits[i-1][0]+1\n",
    "    \n",
    "    for i in range(1, len(str2)+1):\n",
    "        for j in range(1, len(str1)+1):\n",
    "            if str2[i-1] == str1[j-1]:\n",
    "                edits[i][j] = edits[i-1][j-1]\n",
    "            else:\n",
    "                edits[i][j] = min(edits[i-1][j-1], edits[i-1][j], edits[i][j-1])+1\n",
    "    for edit in edits:\n",
    "        print(edit)\n",
    "    return edits[-1][-1]\n",
    "print(levenshteinDistance('abc', 'yabd'))"
   ]
  },
  {
   "cell_type": "code",
   "execution_count": 54,
   "id": "771c915c",
   "metadata": {},
   "outputs": [
    {
     "name": "stdout",
     "output_type": "stream",
     "text": [
      "20\n"
     ]
    }
   ],
   "source": [
    "def numberOfWaysToTraverseGraph(width, height):\n",
    "#     SOLUTION A\n",
    "#     if width == 1 or height == 1:\n",
    "#         return 1\n",
    "#     return numberOfWaysToTraverseGraph(width-1, height) + numberOfWaysToTraverseGraph(width, height-1)\n",
    "\n",
    "#     SOLUTION B\n",
    "    ways = [[1 for _ in range(width+1)] for _ in range(height+1)]\n",
    "    for i in range(2, height+1):\n",
    "        for j in range(2, width+1):\n",
    "            ways[j][i] = ways[j-1][i]+ways[j][i-1]\n",
    "    return ways[-1][-1] \n",
    "print(numberOfWaysToTraverseGraph(4,4))"
   ]
  },
  {
   "cell_type": "code",
   "execution_count": 1,
   "id": "116b6b19",
   "metadata": {},
   "outputs": [
    {
     "name": "stdout",
     "output_type": "stream",
     "text": [
      "None\n"
     ]
    }
   ],
   "source": [
    "def maxSumIncreasingSequence(sequence):\n",
    "    seq = [None for _ in sequence]\n",
    "    for i in range(len(sequence)):\n",
    "        currentNum = sequence[i]\n",
    "        for j in range(0, i):\n",
    "            otherNum\n",
    "print(maxSumIncreasingSequence([8,12,2,3,15,5,7]))"
   ]
  },
  {
   "cell_type": "code",
   "execution_count": 3,
   "id": "a6fc3298",
   "metadata": {},
   "outputs": [
    {
     "name": "stdout",
     "output_type": "stream",
     "text": [
      "3\n"
     ]
    }
   ],
   "source": [
    "def minNumberOfJumps(array):\n",
    "    jumps = 0\n",
    "    maxReach = array[0]\n",
    "    steps = array[0]\n",
    "    for i in range(1, len(array)-1):\n",
    "        maxReach = max(maxReach, array[i]+i)\n",
    "        steps -= 1\n",
    "        if steps == 0:\n",
    "            jumps += 1\n",
    "            steps = maxReach - i\n",
    "    return jumps\n",
    "print(minNumberOfJumps([3,4,2,1,2,3,7,1,1,1,3]))"
   ]
  },
  {
   "cell_type": "code",
   "execution_count": null,
   "id": "f2d94242",
   "metadata": {},
   "outputs": [],
   "source": []
  }
 ],
 "metadata": {
  "kernelspec": {
   "display_name": "Python 3 (ipykernel)",
   "language": "python",
   "name": "python3"
  },
  "language_info": {
   "codemirror_mode": {
    "name": "ipython",
    "version": 3
   },
   "file_extension": ".py",
   "mimetype": "text/x-python",
   "name": "python",
   "nbconvert_exporter": "python",
   "pygments_lexer": "ipython3",
   "version": "3.9.7"
  }
 },
 "nbformat": 4,
 "nbformat_minor": 5
}
