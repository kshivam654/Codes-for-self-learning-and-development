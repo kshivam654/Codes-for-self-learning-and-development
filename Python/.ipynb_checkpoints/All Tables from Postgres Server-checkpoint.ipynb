{
 "cells": [
  {
   "cell_type": "code",
   "execution_count": null,
   "id": "0fc0731b",
   "metadata": {},
   "outputs": [],
   "source": [
    "#install if not there\n",
    "import sys\n",
    "!{sys.executable} -m pip install psycopg2"
   ]
  },
  {
   "cell_type": "code",
   "execution_count": null,
   "id": "f8e71d16",
   "metadata": {},
   "outputs": [],
   "source": [
    "import psycopg2\n",
    "import pandas as pd\n",
    "import numpy as np\n",
    "\n",
    "#establishing the connection\n",
    "conn = psycopg2.connect(\n",
    "   database=\"postgres\", user='postgres', password='password', host='127.0.0.1', port= '5432'\n",
    ")\n",
    "#Creating a cursor object using the cursor() method\n",
    "cursor = conn.cursor()\n",
    "\n",
    "#Executing an MYSQL function using the execute() method\n",
    "cursor.execute(\"SELECT table_name FROM information_schema.tables WHERE table_type='BASE TABLE' AND table_schema='public';\")\n",
    "\n",
    "# Fetch a single row using fetchone() method.\n",
    "datas = cursor.fetchall()\n",
    "\n",
    "df = pd.DataFrame([], columns=['Table Name', 'Column Name', 'Data type'])\n",
    "\n",
    "for data in datas:\n",
    "    query = \"SELECT * FROM information_schema.columns WHERE table_schema = 'your_schema' AND table_name   = '{}';\".format(data)\n",
    "    \n",
    "    cursor.execute(query)\n",
    "    t_details = cursor.fetchall()\n",
    "    \n",
    "    df = df.append([data, '', ''])\n",
    "    for detail in t_details:\n",
    "        df = df.append(['', detail[0], detail[1]], ignore_index=True)\n",
    "        \n",
    "        \n",
    "df.to_csv(\"table_details.xlsx\")"
   ]
  },
  {
   "cell_type": "code",
   "execution_count": null,
   "id": "aa16a8b5",
   "metadata": {},
   "outputs": [],
   "source": []
  },
  {
   "cell_type": "code",
   "execution_count": null,
   "id": "ff951642",
   "metadata": {},
   "outputs": [],
   "source": []
  },
  {
   "cell_type": "code",
   "execution_count": null,
   "id": "86a1229e",
   "metadata": {},
   "outputs": [],
   "source": [
    "#Closing the connection\n",
    "conn.close()"
   ]
  }
 ],
 "metadata": {
  "kernelspec": {
   "display_name": "Python 3 (ipykernel)",
   "language": "python",
   "name": "python3"
  },
  "language_info": {
   "codemirror_mode": {
    "name": "ipython",
    "version": 3
   },
   "file_extension": ".py",
   "mimetype": "text/x-python",
   "name": "python",
   "nbconvert_exporter": "python",
   "pygments_lexer": "ipython3",
   "version": "3.9.7"
  }
 },
 "nbformat": 4,
 "nbformat_minor": 5
}
