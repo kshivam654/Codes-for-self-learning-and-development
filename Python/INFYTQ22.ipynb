{
 "cells": [
  {
   "cell_type": "markdown",
   "id": "a251b5fa",
   "metadata": {},
   "source": [
    "# INFYTQ 2022 Riya"
   ]
  },
  {
   "cell_type": "code",
   "execution_count": 115,
   "id": "b0d91a13",
   "metadata": {},
   "outputs": [
    {
     "name": "stdout",
     "output_type": "stream",
     "text": [
      "xyz\n",
      "xyz,xyZ,xYz,xYZ,Xyz,XyZ,XYz,XYZ\n"
     ]
    }
   ],
   "source": [
    "def binaryToDecimal(binary):\n",
    "    binary1 = binary\n",
    "    decimal, i, n = 0, 0, 0\n",
    "    while(binary != 0):\n",
    "        dec = binary % 10\n",
    "        decimal = decimal + dec * pow(2, i)\n",
    "        binary = binary//10\n",
    "        i += 1\n",
    "    return(decimal)  \n",
    "def charToBin(s):\n",
    "    res = []\n",
    "    for ele in s:\n",
    "        if ele.islower(): res.append('0')\n",
    "        else: res.append('1')\n",
    "    return binaryToDecimal(int(''.join(res)))\n",
    "\n",
    "import itertools\n",
    "s = input()\n",
    "comb = list(map(''.join, itertools.product(*zip(s.upper(), s.lower()))))\n",
    "\n",
    "d = dict()\n",
    "for ele in comb:\n",
    "    d[ele] = charToBin(ele)\n",
    "d = sorted(d.items(), key = lambda x: x[1], reverse=False)\n",
    "ans = []\n",
    "for ele in d:\n",
    "    ans.append(ele[0])\n",
    "print(','.join(ans))"
   ]
  },
  {
   "cell_type": "code",
   "execution_count": 113,
   "id": "f73d5740",
   "metadata": {},
   "outputs": [
    {
     "data": {
      "text/plain": [
       "[('xyz', 0),\n",
       " ('xyZ', 1),\n",
       " ('xYz', 2),\n",
       " ('xYZ', 3),\n",
       " ('Xyz', 4),\n",
       " ('XyZ', 5),\n",
       " ('XYz', 6),\n",
       " ('XYZ', 7)]"
      ]
     },
     "execution_count": 113,
     "metadata": {},
     "output_type": "execute_result"
    }
   ],
   "source": [
    "d"
   ]
  },
  {
   "cell_type": "code",
   "execution_count": null,
   "id": "ad2c2889",
   "metadata": {},
   "outputs": [],
   "source": []
  },
  {
   "cell_type": "code",
   "execution_count": 131,
   "id": "9daee36d",
   "metadata": {},
   "outputs": [
    {
     "name": "stdout",
     "output_type": "stream",
     "text": [
      "2340567\n",
      "[1, 2340567, 3, 780189, 9, 260063, 41, 57087, 123, 19029, 369, 6343]\n",
      "[23, 34, 40, 5, 56, 67]\n",
      "{23: 1, 34: 2, 40: 4, 5: 1, 56: 4, 67: 1}\n",
      "56\n"
     ]
    }
   ],
   "source": [
    "import math\n",
    "def divisors(n) :\n",
    "    res = []\n",
    "    i = 1\n",
    "    while i <= math.sqrt(n):\n",
    "        if (n % i == 0) :\n",
    "            if (n / i == i) :\n",
    "                res.append(i)\n",
    "            else :\n",
    "                res.append(i)\n",
    "                res.append(int(n/i))\n",
    "        i = i + 1\n",
    "    return res\n",
    "\n",
    "def comFactor(sub, parent):\n",
    "    count = 0\n",
    "    parent = str(parent)\n",
    "    for ele in sub:\n",
    "        if str(ele) in parent: count += 1\n",
    "    return count\n",
    "\n",
    "inum = int(input())\n",
    "# factor_inum = divisors(inum)\n",
    "print(factor_inum)\n",
    "numPairs = [ int(str(inum)[i:i+2]) for i in range(len(str(inum))-1)]\n",
    "print(numPairs)\n",
    "d = dict()\n",
    "for num in numPairs:\n",
    "    d[num] = comFactor(divisors(num), inum)\n",
    "print(d)\n",
    "print('%02d'%sorted(d.items(), key = lambda x: (x[1], x[0]), reverse=True)[0][0])"
   ]
  },
  {
   "cell_type": "code",
   "execution_count": 121,
   "id": "dd8f1158",
   "metadata": {},
   "outputs": [
    {
     "data": {
      "text/plain": [
       "{23: 2, 34: 3, 40: 6, 5: 2, 56: 6, 67: 2}"
      ]
     },
     "execution_count": 121,
     "metadata": {},
     "output_type": "execute_result"
    }
   ],
   "source": [
    "d"
   ]
  },
  {
   "cell_type": "code",
   "execution_count": 127,
   "id": "a50d8fb7",
   "metadata": {},
   "outputs": [
    {
     "data": {
      "text/plain": [
       "'105'"
      ]
     },
     "execution_count": 127,
     "metadata": {},
     "output_type": "execute_result"
    }
   ],
   "source": [
    "f\"{105:02}\""
   ]
  },
  {
   "cell_type": "code",
   "execution_count": 129,
   "id": "13da6935",
   "metadata": {},
   "outputs": [
    {
     "data": {
      "text/plain": [
       "'06'"
      ]
     },
     "execution_count": 129,
     "metadata": {},
     "output_type": "execute_result"
    }
   ],
   "source": [
    "'%02d'%6"
   ]
  },
  {
   "cell_type": "code",
   "execution_count": null,
   "id": "f625146a",
   "metadata": {},
   "outputs": [],
   "source": []
  }
 ],
 "metadata": {
  "kernelspec": {
   "display_name": "Python 3.9.9 64-bit",
   "language": "python",
   "name": "python399jvsc74a57bd0b0fa6594d8f4cbf19f97940f81e996739fb7646882a419484c72d19e05852a7e"
  },
  "language_info": {
   "codemirror_mode": {
    "name": "ipython",
    "version": 3
   },
   "file_extension": ".py",
   "mimetype": "text/x-python",
   "name": "python",
   "nbconvert_exporter": "python",
   "pygments_lexer": "ipython3",
   "version": "3.9.10"
  }
 },
 "nbformat": 4,
 "nbformat_minor": 5
}
