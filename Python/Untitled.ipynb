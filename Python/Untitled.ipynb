{
 "cells": [
  {
   "cell_type": "code",
   "execution_count": 14,
   "id": "01bc57f1",
   "metadata": {},
   "outputs": [
    {
     "name": "stdout",
     "output_type": "stream",
     "text": [
      "14.9 µs ± 195 ns per loop (mean ± std. dev. of 7 runs, 100000 loops each)\n"
     ]
    }
   ],
   "source": [
    "import numpy as np\n",
    "# input two matrices\n",
    "mat1 = range(0,32)\n",
    "mat2 = range(0,32)\n",
    "%timeit np.dot(mat1,mat2)"
   ]
  },
  {
   "cell_type": "code",
   "execution_count": 5,
   "id": "d16fcb06",
   "metadata": {},
   "outputs": [
    {
     "name": "stdout",
     "output_type": "stream",
     "text": [
      "Collecting numpy\n",
      "  Downloading numpy-1.21.4-cp39-cp39-macosx_11_0_arm64.whl (12.4 MB)\n",
      "     |████████████████████████████████| 12.4 MB 2.0 MB/s            \n",
      "\u001b[?25hInstalling collected packages: numpy\n",
      "Successfully installed numpy-1.21.4\n"
     ]
    }
   ],
   "source": [
    "import sys\n",
    "!{sys.executable} -m pip install numpy"
   ]
  },
  {
   "cell_type": "code",
   "execution_count": null,
   "id": "9d0c9407",
   "metadata": {},
   "outputs": [],
   "source": [
    "def function(frequencies, filterRange):\n",
    "    count = 0\n",
    "    for frequency in frequencies:\n",
    "        flag = False\n",
    "        for start, end in filterRange:\n",
    "            if frequency < start or frequency > end:\n",
    "                flag = True\n",
    "                break\n",
    "        if not flag:\n",
    "            count += 1\n",
    "    return count"
   ]
  },
  {
   "cell_type": "code",
   "execution_count": 1,
   "id": "3068373f",
   "metadata": {},
   "outputs": [],
   "source": [
    "def function(text):\n",
    "    res = []\n",
    "    count = 0\n",
    "    subcount = 0\n",
    "    for s in text:\n",
    "        h = s.split(' ')[0]\n",
    "        if h == '#':\n",
    "            count += 1\n",
    "            subcount = 0\n",
    "            res.append('{}. {}'.format(count, s.split(' ', 1)[1]))\n",
    "        elif h =='##':\n",
    "            subcount += 1\n",
    "            res.append('{}.{}. {}'.format(count, subcount, s.split(' ', 1)[1]))\n",
    "    return res"
   ]
  },
  {
   "cell_type": "code",
   "execution_count": 9,
   "id": "ec2a3a91",
   "metadata": {},
   "outputs": [
    {
     "name": "stdout",
     "output_type": "stream",
     "text": [
      "1 1\n",
      "3 1\n",
      "5 1\n",
      "6 1\n",
      "8 6\n",
      "9 6\n",
      "13 6\n",
      "3\n"
     ]
    }
   ],
   "source": [
    "awards = [1,13,6,8,9,3,5]\n",
    "k = 4\n",
    "awards.sort()\n",
    "c = 0\n",
    "mini = awards[0]\n",
    "maxi = awards[0]\n",
    "for i in range(len(awards)):\n",
    "    mini = min(mini, awards[i])\n",
    "    maxi = max(maxi, awards[i])\n",
    "    print(maxi, mini)\n",
    "    if abs(maxi-mini) > k:\n",
    "        c += 1\n",
    "        mini = awards[i]\n",
    "        maxi = awards[i]\n",
    "print(c+1)"
   ]
  },
  {
   "cell_type": "code",
   "execution_count": 1,
   "id": "693da4ce",
   "metadata": {},
   "outputs": [],
   "source": [
    "a = [1,2,3]\n",
    "b = [2,2,2]\n",
    "c = a+b"
   ]
  },
  {
   "cell_type": "code",
   "execution_count": 2,
   "id": "766c95d1",
   "metadata": {},
   "outputs": [
    {
     "data": {
      "text/plain": [
       "[1, 2, 3, 2, 2, 2]"
      ]
     },
     "execution_count": 2,
     "metadata": {},
     "output_type": "execute_result"
    }
   ],
   "source": [
    "c"
   ]
  },
  {
   "cell_type": "code",
   "execution_count": 13,
   "id": "e2809311",
   "metadata": {},
   "outputs": [
    {
     "name": "stdout",
     "output_type": "stream",
     "text": [
      "(1,)\n",
      "(2,)\n",
      "(3,)\n",
      "(1, 2)\n",
      "(1, 3)\n",
      "(2, 3)\n",
      "(1, 2, 3)\n",
      "24\n"
     ]
    }
   ],
   "source": [
    "from itertools import combinations\n",
    "\n",
    "nums = [1,2,3]\n",
    "s = 0\n",
    "for i in range(1, len(nums)+1):\n",
    "    for com in combinations(nums, i):\n",
    "        print(com)\n",
    "        s += sum(com)\n",
    "print(s)"
   ]
  },
  {
   "cell_type": "code",
   "execution_count": 20,
   "id": "1f85c876",
   "metadata": {
    "scrolled": true
   },
   "outputs": [
    {
     "name": "stdout",
     "output_type": "stream",
     "text": [
      "[2, 4, 5]\n"
     ]
    }
   ],
   "source": [
    "import collections\n",
    "arr = [2,4,5,1,4,6,6,2,1,0]\n",
    "k = 3\n",
    "def fun(arr, k):\n",
    "    d = collections.defaultdict(lambda: [])\n",
    "    for i in range(len(arr)-k+1):\n",
    "        myArr = arr[i:i+k]\n",
    "#         print(myArr, sum(myArr))\n",
    "        d[sum(myArr)].append(myArr)\n",
    "    maxKey = float('-inf')\n",
    "    for key in d:\n",
    "        maxKey = max(maxKey, key)\n",
    "    targetedKey = maxKey//2\n",
    "    res = []\n",
    "    for key in d:\n",
    "        if key >= targetedKey:\n",
    "#             return d[key][0]\n",
    "            res.extend([l for l in d[key]])\n",
    "    return res[0]\n",
    "print(fun(arr, k))"
   ]
  },
  {
   "cell_type": "code",
   "execution_count": 18,
   "id": "56e6277c",
   "metadata": {},
   "outputs": [],
   "source": [
    "d = {}\n",
    "ele = 'b'\n",
    "if ele not in d:\n",
    "    d[ele] = ['a']\n",
    "else:\n",
    "    d[ele].append('a')"
   ]
  },
  {
   "cell_type": "code",
   "execution_count": 33,
   "id": "8ffdc9c2",
   "metadata": {},
   "outputs": [
    {
     "name": "stdout",
     "output_type": "stream",
     "text": [
      "[1, 3, 5]\n",
      "[[0, 1], [0, 3], [2, 3], [0, 5], [2, 5], [4, 5]]\n"
     ]
    }
   ],
   "source": [
    "def printAllEqualZeroAndOne(arr):\n",
    "    count = 0\n",
    "    curSum = 0\n",
    "    finds = []\n",
    "    for i, ele in enumerate(arr):\n",
    "        if ele == 0:\n",
    "            arr[i] = -1\n",
    "        curSum += arr[i]\n",
    "        if curSum == 0:\n",
    "            finds.append(i)\n",
    "    print(finds)\n",
    "    ranges = []\n",
    "#     ranges.append([0, finds[0]])\n",
    "    for i in range(len(finds)):\n",
    "        ranges.append([0, finds[i]])\n",
    "        for j in range(0, i):\n",
    "            ranges.append([finds[j]+1, finds[i]])\n",
    "    print(ranges)\n",
    "printAllEqualZeroAndOne([1,0,0,1,0,1,1])"
   ]
  },
  {
   "cell_type": "code",
   "execution_count": 34,
   "id": "86a886bb",
   "metadata": {},
   "outputs": [
    {
     "name": "stdout",
     "output_type": "stream",
     "text": [
      "[1, 3, 5, 6]\n"
     ]
    }
   ],
   "source": [
    "def incrementIntervals(a, intervals):\n",
    "    gaps = [0 for _ in range(len(a)+1)]\n",
    "    for interval in intervals:\n",
    "        start, end = interval\n",
    "        gaps[start] += 1\n",
    "        gaps[end+1] -= 1\n",
    "    for i in range(1, len(gaps)):\n",
    "        gaps[i] += gaps[i-1]\n",
    "    for i in range(len(a)):\n",
    "        a[i] += gaps[i]\n",
    "    return a\n",
    "print(incrementIntervals([1,2,3,4], [[1,3], [2,3]]))"
   ]
  },
  {
   "cell_type": "code",
   "execution_count": 43,
   "id": "8bcd81ff",
   "metadata": {},
   "outputs": [
    {
     "name": "stdout",
     "output_type": "stream",
     "text": [
      "wertf\n"
     ]
    }
   ],
   "source": [
    "def alienOrder(words):\n",
    "    adj = {c:set() for word in words for c in word}\n",
    "    for i in range(len(words)-1):\n",
    "        w1, w2 = words[i], words[i+1]\n",
    "        minLen = min(len(w1), len(w2))\n",
    "        if len(w1) > len(w2) and w1[:minLen] == w2[:minLen]:\n",
    "            return ''\n",
    "        for j in range(minLen):\n",
    "            if w1[j] != w2[j]:\n",
    "                adj[w1[j]].add(w2[j])\n",
    "                break\n",
    "    visit = {} #False=visited, True=current Path\n",
    "    res = []\n",
    "    def dfs(c):\n",
    "        if c in visit:\n",
    "            return visit[c]\n",
    "        visit[c] = True\n",
    "        \n",
    "        for nei in adj[c]:\n",
    "            if dfs(nei):\n",
    "                return True\n",
    "        \n",
    "        visit[c] = False\n",
    "        res.append(c)\n",
    "    for c in adj:\n",
    "        if dfs(c):\n",
    "            return ''\n",
    "    res.reverse()\n",
    "    return ''.join(res)\n",
    "print(alienOrder(['wrt', 'wrf', 'er', 'ett', 'rftt']))"
   ]
  },
  {
   "cell_type": "code",
   "execution_count": 3,
   "id": "d6d43d8b",
   "metadata": {},
   "outputs": [
    {
     "name": "stdout",
     "output_type": "stream",
     "text": [
      "22\n",
      "Integer: 22, Float: 00\n"
     ]
    }
   ],
   "source": [
    "num = input()\n",
    "if '.' in num:\n",
    "    num = num.split('.')\n",
    "    print('Integer: {}, Float: {}'.format(num[0], num[1]))\n",
    "else:\n",
    "    print('Integer: {}, Float: {}'.format(num, '00'))"
   ]
  },
  {
   "cell_type": "code",
   "execution_count": 4,
   "id": "8be41a1b",
   "metadata": {},
   "outputs": [
    {
     "name": "stdout",
     "output_type": "stream",
     "text": [
      "5\n",
      "3\n",
      "21\n"
     ]
    }
   ],
   "source": [
    "def fibonacci(n):\n",
    "    a = 0\n",
    "    b = 1\n",
    "    if n < 0:\n",
    "        print(\"Incorrect input\")\n",
    "    elif n == 0:\n",
    "        return a\n",
    "    elif n == 1:\n",
    "        return b\n",
    "    else:\n",
    "        for i in range(2,n+1):\n",
    "            c = a + b\n",
    "            a = b\n",
    "            b = c\n",
    "        return b\n",
    "a = int(input())\n",
    "b = int(input())\n",
    "print(fibonacci(a+b))"
   ]
  },
  {
   "cell_type": "code",
   "execution_count": 2,
   "id": "b4b6317c",
   "metadata": {},
   "outputs": [
    {
     "name": "stdout",
     "output_type": "stream",
     "text": [
      "Webapplication\n",
      "None\n"
     ]
    }
   ],
   "source": [
    "from collections import Counter\n",
    "def mostFrequentCharacters(text):\n",
    "    text = text.replace(' ', '')\n",
    "    print(text)\n",
    "print(mostFrequentCharacters('Web application'))"
   ]
  },
  {
   "cell_type": "code",
   "execution_count": 7,
   "id": "4b2c2934",
   "metadata": {},
   "outputs": [
    {
     "name": "stdout",
     "output_type": "stream",
     "text": [
      "5\n",
      "3\n",
      "3\n",
      "0\n"
     ]
    }
   ],
   "source": [
    "def fun(curr, new):\n",
    "    if new > 0 and curr != 10:\n",
    "        left = 10-curr\n",
    "        if left <= new:\n",
    "            return left, new-left\n",
    "        else:\n",
    "            return new, 0\n",
    "    else:\n",
    "        return 0, new\n",
    "def queueAllAlotment(firstcounter, secondcounter, thridcounter, newarrival):\n",
    "    res1, res2, res3, res4 = 0, 0, 0, 0\n",
    "    if newarrival > 0:\n",
    "        res1, newarrival = fun(firstcounter, newarrival)\n",
    "    if newarrival > 0:\n",
    "        res2, newarrival = fun(secondcounter, newarrival)\n",
    "    if newarrival > 0:\n",
    "        res3, newarrival = fun(thridcounter, newarrival)\n",
    "    print(res1)\n",
    "    print(res2)\n",
    "    print(res3)\n",
    "    print(newarrival)\n",
    "queueAllAlotment(5,7,3,11)"
   ]
  },
  {
   "cell_type": "code",
   "execution_count": null,
   "id": "7d21b3b5",
   "metadata": {},
   "outputs": [],
   "source": [
    "def isSubtree(s, t):\n",
    "    if not s:\n",
    "        return False\n",
    "    if isSameTree(s, t):\n",
    "        return True\n",
    "    return isSubTree(s.left, t) or isSubTree(s.right, t)\n",
    "def isSametree(p, q):\n",
    "    if p and q:\n",
    "        return q.val == p.val and isSametree(p.left, q.left) and isSameTree(p.right, q.right)\n",
    "    return p is q"
   ]
  },
  {
   "cell_type": "code",
   "execution_count": null,
   "id": "123400c2",
   "metadata": {},
   "outputs": [],
   "source": [
    "def findCeleb(n):\n",
    "    indegree = [0 for _ in range(n)]\n",
    "    outdegree = [0 for _ in range(n)]\n",
    "    \n",
    "    for i in range(n):\n",
    "        for j in range(n):\n",
    "            x = knows(i,j)\n",
    "            \n",
    "            outdegree[i] += x\n",
    "            indegree[j] += x\n",
    "    for i in range(n):\n",
    "        if indegree[i] == n-1 and outdegree[i] == 0:\n",
    "            return i\n",
    "\n",
    "def knows(x, y):\n",
    "    return MATRIX[x][y]"
   ]
  },
  {
   "cell_type": "code",
   "execution_count": 2,
   "id": "bdb39dfb",
   "metadata": {},
   "outputs": [
    {
     "ename": "TypeError",
     "evalue": "'builtin_function_or_method' object is not subscriptable",
     "output_type": "error",
     "traceback": [
      "\u001b[0;31m---------------------------------------------------------------------------\u001b[0m",
      "\u001b[0;31mTypeError\u001b[0m                                 Traceback (most recent call last)",
      "\u001b[0;32m/var/folders/qg/95cbyh_564vbrm_c42_67mfc0000gn/T/ipykernel_6819/807081320.py\u001b[0m in \u001b[0;36m<module>\u001b[0;34m\u001b[0m\n\u001b[1;32m     22\u001b[0m     \u001b[0;32mwhile\u001b[0m \u001b[0mi\u001b[0m \u001b[0;34m<\u001b[0m \u001b[0mk\u001b[0m \u001b[0;32mand\u001b[0m \u001b[0mtop\u001b[0m\u001b[0;34m[\u001b[0m\u001b[0mi\u001b[0m\u001b[0;34m]\u001b[0m \u001b[0;34m!=\u001b[0m \u001b[0;36m0\u001b[0m\u001b[0;34m:\u001b[0m\u001b[0;34m\u001b[0m\u001b[0;34m\u001b[0m\u001b[0m\n\u001b[1;32m     23\u001b[0m         \u001b[0mprint\u001b[0m\u001b[0;34m(\u001b[0m\u001b[0mtop\u001b[0m\u001b[0;34m[\u001b[0m\u001b[0mi\u001b[0m\u001b[0;34m]\u001b[0m\u001b[0;34m)\u001b[0m\u001b[0;34m\u001b[0m\u001b[0;34m\u001b[0m\u001b[0m\n\u001b[0;32m---> 24\u001b[0;31m \u001b[0mkTop\u001b[0m\u001b[0;34m(\u001b[0m\u001b[0;34m[\u001b[0m\u001b[0;36m5\u001b[0m\u001b[0;34m,\u001b[0m\u001b[0;36m2\u001b[0m\u001b[0;34m,\u001b[0m\u001b[0;36m1\u001b[0m\u001b[0;34m,\u001b[0m\u001b[0;36m3\u001b[0m\u001b[0;34m,\u001b[0m\u001b[0;36m2\u001b[0m\u001b[0;34m]\u001b[0m\u001b[0;34m,\u001b[0m \u001b[0;36m5\u001b[0m\u001b[0;34m,\u001b[0m \u001b[0;36m4\u001b[0m\u001b[0;34m)\u001b[0m\u001b[0;34m\u001b[0m\u001b[0;34m\u001b[0m\u001b[0m\n\u001b[0m",
      "\u001b[0;32m/var/folders/qg/95cbyh_564vbrm_c42_67mfc0000gn/T/ipykernel_6819/807081320.py\u001b[0m in \u001b[0;36mkTop\u001b[0;34m(a, n, k)\u001b[0m\n\u001b[1;32m      9\u001b[0m             \u001b[0mfeq\u001b[0m\u001b[0;34m[\u001b[0m\u001b[0ma\u001b[0m\u001b[0;34m[\u001b[0m\u001b[0mm\u001b[0m\u001b[0;34m]\u001b[0m\u001b[0;34m]\u001b[0m \u001b[0;34m=\u001b[0m \u001b[0;36m1\u001b[0m\u001b[0;34m\u001b[0m\u001b[0;34m\u001b[0m\u001b[0m\n\u001b[1;32m     10\u001b[0m     \u001b[0mtop\u001b[0m\u001b[0;34m[\u001b[0m\u001b[0mk\u001b[0m\u001b[0;34m]\u001b[0m \u001b[0;34m=\u001b[0m \u001b[0ma\u001b[0m\u001b[0;34m[\u001b[0m\u001b[0mm\u001b[0m\u001b[0;34m]\u001b[0m\u001b[0;34m\u001b[0m\u001b[0;34m\u001b[0m\u001b[0m\n\u001b[0;32m---> 11\u001b[0;31m     \u001b[0mi\u001b[0m \u001b[0;34m=\u001b[0m \u001b[0mtop\u001b[0m\u001b[0;34m.\u001b[0m\u001b[0mindex\u001b[0m\u001b[0;34m[\u001b[0m\u001b[0ma\u001b[0m\u001b[0;34m[\u001b[0m\u001b[0mm\u001b[0m\u001b[0;34m]\u001b[0m\u001b[0;34m]\u001b[0m\u001b[0;34m\u001b[0m\u001b[0;34m\u001b[0m\u001b[0m\n\u001b[0m\u001b[1;32m     12\u001b[0m     \u001b[0mi\u001b[0m \u001b[0;34m-=\u001b[0m \u001b[0;36m1\u001b[0m\u001b[0;34m\u001b[0m\u001b[0;34m\u001b[0m\u001b[0m\n\u001b[1;32m     13\u001b[0m     \u001b[0;32mwhile\u001b[0m \u001b[0mi\u001b[0m \u001b[0;34m>\u001b[0m \u001b[0;36m0\u001b[0m\u001b[0;34m:\u001b[0m\u001b[0;34m\u001b[0m\u001b[0;34m\u001b[0m\u001b[0m\n",
      "\u001b[0;31mTypeError\u001b[0m: 'builtin_function_or_method' object is not subscriptable"
     ]
    }
   ],
   "source": [
    "def kTop(a, n, k):\n",
    "    top = [0 for _ in range(k+1)]\n",
    "    feq = {i: 0 for i in range(k+1)}\n",
    "    \n",
    "    for m in range(n):\n",
    "        if a[m] in feq.keys():\n",
    "            feq[a[m]] += 1\n",
    "        else :\n",
    "            feq[a[m]] = 1\n",
    "    top[k] = a[m]\n",
    "    i = top.index[a[m]]\n",
    "    i -= 1\n",
    "    while i > 0:\n",
    "        if feq[top[i]] == feq[top[i+1]] and top[i] > top[i+1]:\n",
    "            t = top[i]\n",
    "            top[i] = top[i+1]\n",
    "            top[i+1] = t\n",
    "        else:\n",
    "            break\n",
    "        i -= 1\n",
    "    i = 0\n",
    "    while i < k and top[i] != 0:\n",
    "        print(top[i])\n",
    "kTop([5,2,1,3,2], 5, 4)"
   ]
  },
  {
   "cell_type": "code",
   "execution_count": 3,
   "id": "90b29934",
   "metadata": {},
   "outputs": [
    {
     "name": "stdout",
     "output_type": "stream",
     "text": [
      "['A', 1]\n",
      "['B', 2]\n",
      "['C', 3]\n"
     ]
    }
   ],
   "source": [
    "A = ['A', 'B', 'C']\n",
    "B = [1,2,3]\n",
    "res = []\n",
    "for a,b in zip(A, B):\n",
    "    res.append([a,b])\n",
    "for ele in res:\n",
    "    print(ele)"
   ]
  },
  {
   "cell_type": "code",
   "execution_count": 19,
   "id": "aab2eba8",
   "metadata": {},
   "outputs": [
    {
     "name": "stdout",
     "output_type": "stream",
     "text": [
      "628ed73db5e4e9e5e8abe7c3\n",
      "628ed73db5e4e9e5e8abe7c4\n"
     ]
    }
   ],
   "source": [
    "import json\n",
    "  \n",
    "f = open('_du_remove_script.json')\n",
    "  \n",
    "data = json.load(f)\n",
    "    \n",
    "f.close()\n",
    "# data = json.loads(data)\n",
    "print(data[0][\"_id\"][\"$oid\"])\n",
    "print(data[1][\"_id\"][\"$oid\"])"
   ]
  },
  {
   "cell_type": "code",
   "execution_count": 15,
   "id": "1fd8fad5",
   "metadata": {},
   "outputs": [
    {
     "data": {
      "text/plain": [
       "[{'_id': {'$oid': '628ed73db5e4e9e5e8abe7c3'},\n",
       "  'course_id': {'$oid': '6254b134b2097d80b3af9349'},\n",
       "  'subject_id': {'$oid': '628ec54549cdeff05805dfad'},\n",
       "  'chapter_name': 'Environmental Engineering',\n",
       "  'title': 'Foundation batch |Civil Engg.| Environmental Engg.| From College Student to IES Level | by Ketan Sir',\n",
       "  'video_link': 'https://vod.teachx.in/videos/GPknmGjD-5S4ICibK.mp4',\n",
       "  'status': 'Published',\n",
       "  'created_at': {'$date': {'$numberLong': '1621339920000'}},\n",
       "  'pdf_path': 'https://downloadexampur.appx.co.in/paidcourse2/0.41773618133103051621320091184.pdf',\n",
       "  'updated_at': {'$date': {'$numberLong': '1653528381367'}},\n",
       "  'thumbnail': 'https://downloadexampur.appx.co.in/paidcourse2/0.068116498161560961618039106504.jpg',\n",
       "  'logo_path': 'https://downloadexampur.appx.co.in/paidcourse2/0.068116498161560961618039106504.jpg',\n",
       "  'old': {'Sr_no': 10,\n",
       "   'Title': 'Foundation batch |Civil Engg.| Environmental Engg.| From College Student to IES Level | by Ketan Sir',\n",
       "   'material_type': 'VIDEO',\n",
       "   'file_link': \"<a href='18731' >18731</a>\",\n",
       "   'thumbnail': \"<a href='https://downloadexampur.appx.co.in/paidcourse2/0.068116498161560961618039106504.jpg' ><img src='https://downloadexampur.appx.co.in/paidcourse2/0.068116498161560961618039106504.jpg' width='100px' height='50px'/></a>\",\n",
       "   'course_id': 'Civil Engineering Foundation Batch',\n",
       "   'live_status': 'Recorded',\n",
       "   'exam': 'ENGINEERING',\n",
       "   'sortingparam': '1.00',\n",
       "   'subject': 'Civil Engg. by Ketan Sir',\n",
       "   'topic': 'Environmental Engineering',\n",
       "   'section': '',\n",
       "   'pdf_link': \"<a href='https://downloadexampur.appx.co.in/paidcourse2/0.41773618133103051621320091184.pdf' >https://downloadexampur.appx.co.in/paidcourse2/0.41773618133103051621320091184.pdf</a>\",\n",
       "   'date_and_time': '18-05-2021 at 12:12 PM',\n",
       "   'download_link': \"<a href='https://vod.teachx.in/videos/GPknmGjD-5S4ICibK.mp4' >https://vod.teachx.in/videos/GPknmGjD-5S4ICibK.mp4</a>\",\n",
       "   'file_size': '186',\n",
       "   'Delete': \"<a href='deletelivecoursevideopdf3.php?id=18731&type=video' class='btn btn-danger deleteconfirm'>Delete</a>\",\n",
       "   'Edit': \"<a href='editlivecoursevideo3.php?id=18731' class='btn btn-primary'>Edit</a>\",\n",
       "   'enable_btn': '<button class=\"btn btn-sm btn-warning enable-btn\" data-id=\"18731\" data-enable=\"0\">Disable</button>'}},\n",
       " {'_id': {'$oid': '628ed73db5e4e9e5e8abe7c4'},\n",
       "  'course_id': {'$oid': '6254b134b2097d80b3af9349'},\n",
       "  'subject_id': {'$oid': '628ec54549cdeff05805dfad'},\n",
       "  'chapter_name': 'Environmental Engineering',\n",
       "  'title': 'Foundation batch |Civil Engg.| Environmental Engg.| From College Student to IES Level | by Ketan Sir',\n",
       "  'video_link': 'https://vod.teachx.in/videos/GPknmGjD-5S4ICibK.mp4',\n",
       "  'status': 'Published',\n",
       "  'created_at': {'$date': {'$numberLong': '1621339920000'}},\n",
       "  'pdf_path': 'https://downloadexampur.appx.co.in/paidcourse2/0.0588476839882514651621320097024.pdf',\n",
       "  'updated_at': {'$date': {'$numberLong': '1653528381371'}},\n",
       "  'thumbnail': 'https://downloadexampur.appx.co.in/paid_course/0.45989644752789371618038673385.jpg',\n",
       "  'logo_path': 'https://downloadexampur.appx.co.in/paid_course/0.45989644752789371618038673385.jpg',\n",
       "  'old': {'Sr_no': 11,\n",
       "   'Title': 'Foundation batch |Civil Engg.| Environmental Engg.| From College Student to IES Level | by Ketan Sir',\n",
       "   'material_type': 'VIDEO',\n",
       "   'file_link': \"<a href='18731' >18731</a>\",\n",
       "   'thumbnail': \"<a href='https://downloadexampur.appx.co.in/paid_course/0.45989644752789371618038673385.jpg' ><img src='https://downloadexampur.appx.co.in/paid_course/0.45989644752789371618038673385.jpg' width='100px' height='50px'/></a>\",\n",
       "   'course_id': 'Civil Engineering Foundation Batch',\n",
       "   'live_status': 'Recorded',\n",
       "   'exam': 'ENGINEERING',\n",
       "   'sortingparam': '2.00',\n",
       "   'subject': 'Civil Engg. by Ketan Sir',\n",
       "   'topic': 'Environmental Engineering',\n",
       "   'section': '',\n",
       "   'pdf_link': \"<a href='https://downloadexampur.appx.co.in/paidcourse2/0.0588476839882514651621320097024.pdf' >https://downloadexampur.appx.co.in/paidcourse2/0.0588476839882514651621320097024.pdf</a>\",\n",
       "   'date_and_time': '18-05-2021 at 12:12 PM',\n",
       "   'download_link': \"<a href='https://vod.teachx.in/videos/GPknmGjD-5S4ICibK.mp4' >https://vod.teachx.in/videos/GPknmGjD-5S4ICibK.mp4</a>\",\n",
       "   'file_size': '186',\n",
       "   'Delete': \"<a href='deletelivecoursevideopdf3.php?id=18732&type=video' class='btn btn-danger deleteconfirm'>Delete</a>\",\n",
       "   'Edit': \"<a href='editlivecoursevideo3.php?id=18732' class='btn btn-primary'>Edit</a>\",\n",
       "   'enable_btn': '<button class=\"btn btn-sm btn-warning enable-btn\" data-id=\"18732\" data-enable=\"0\">Disable</button>'}},\n",
       " {'_id': {'$oid': '628ed73db5e4e9e5e8abe7c5'},\n",
       "  'course_id': {'$oid': '6254b134b2097d80b3af9349'},\n",
       "  'subject_id': {'$oid': '628ec54549cdeff05805dfad'},\n",
       "  'chapter_name': 'Environmental Engineering',\n",
       "  'title': 'Foundation batch |Civil Engg.| Environmental Engg.| From College Student to IES Level | by Ketan Sir',\n",
       "  'video_link': 'https://vod.teachx.in/videos/GPknmGjD-5S4ICibK.mp4',\n",
       "  'status': 'Published',\n",
       "  'created_at': {'$date': {'$numberLong': '1621339920000'}},\n",
       "  'pdf_path': 'https://downloadexampur.appx.co.in/paidcourse2/0.83953903347470841621320108034.pdf',\n",
       "  'updated_at': {'$date': {'$numberLong': '1653528381375'}},\n",
       "  'thumbnail': 'https://downloadexampur.appx.co.in/paid_course/0.088920874868642751618038685351.jpg',\n",
       "  'logo_path': 'https://downloadexampur.appx.co.in/paid_course/0.088920874868642751618038685351.jpg',\n",
       "  'old': {'Sr_no': 12,\n",
       "   'Title': 'Foundation batch |Civil Engg.| Environmental Engg.| From College Student to IES Level | by Ketan Sir',\n",
       "   'material_type': 'VIDEO',\n",
       "   'file_link': \"<a href='18731' >18731</a>\",\n",
       "   'thumbnail': \"<a href='https://downloadexampur.appx.co.in/paid_course/0.088920874868642751618038685351.jpg' ><img src='https://downloadexampur.appx.co.in/paid_course/0.088920874868642751618038685351.jpg' width='100px' height='50px'/></a>\",\n",
       "   'course_id': 'Civil Engineering Foundation Batch',\n",
       "   'live_status': 'Recorded',\n",
       "   'exam': 'ENGINEERING',\n",
       "   'sortingparam': '3.00',\n",
       "   'subject': 'Civil Engg. by Ketan Sir',\n",
       "   'topic': 'Environmental Engineering',\n",
       "   'section': '',\n",
       "   'pdf_link': \"<a href='https://downloadexampur.appx.co.in/paidcourse2/0.83953903347470841621320108034.pdf' >https://downloadexampur.appx.co.in/paidcourse2/0.83953903347470841621320108034.pdf</a>\",\n",
       "   'date_and_time': '18-05-2021 at 12:12 PM',\n",
       "   'download_link': \"<a href='https://vod.teachx.in/videos/GPknmGjD-5S4ICibK.mp4' >https://vod.teachx.in/videos/GPknmGjD-5S4ICibK.mp4</a>\",\n",
       "   'file_size': '186',\n",
       "   'Delete': \"<a href='deletelivecoursevideopdf3.php?id=18733&type=video' class='btn btn-danger deleteconfirm'>Delete</a>\",\n",
       "   'Edit': \"<a href='editlivecoursevideo3.php?id=18733' class='btn btn-primary'>Edit</a>\",\n",
       "   'enable_btn': '<button class=\"btn btn-sm btn-warning enable-btn\" data-id=\"18733\" data-enable=\"0\">Disable</button>'}},\n",
       " {'_id': {'$oid': '628ed73db5e4e9e5e8abe7c6'},\n",
       "  'course_id': {'$oid': '6254b134b2097d80b3af9349'},\n",
       "  'subject_id': {'$oid': '628ec54549cdeff05805dfad'},\n",
       "  'chapter_name': 'Environmental Engineering',\n",
       "  'title': 'Foundation batch |Civil Engg.| Environmental Engg.| From College Student to IES Level | by Ketan Sir',\n",
       "  'video_link': 'https://vod.teachx.in/videos/GPknmGjD-5S4ICibK.mp4',\n",
       "  'status': 'Published',\n",
       "  'created_at': {'$date': {'$numberLong': '1621339920000'}},\n",
       "  'pdf_path': 'https://downloadexampur.appx.co.in/paidcourse2/0.85144436448689431621320120192.pdf',\n",
       "  'updated_at': {'$date': {'$numberLong': '1653528381379'}},\n",
       "  'thumbnail': 'https://downloadexampur.appx.co.in/paidcourse2/0.85858671970561341618039074281.jpg',\n",
       "  'logo_path': 'https://downloadexampur.appx.co.in/paidcourse2/0.85858671970561341618039074281.jpg',\n",
       "  'old': {'Sr_no': 13,\n",
       "   'Title': 'Foundation batch |Civil Engg.| Environmental Engg.| From College Student to IES Level | by Ketan Sir',\n",
       "   'material_type': 'VIDEO',\n",
       "   'file_link': \"<a href='18731' >18731</a>\",\n",
       "   'thumbnail': \"<a href='https://downloadexampur.appx.co.in/paidcourse2/0.85858671970561341618039074281.jpg' ><img src='https://downloadexampur.appx.co.in/paidcourse2/0.85858671970561341618039074281.jpg' width='100px' height='50px'/></a>\",\n",
       "   'course_id': 'Civil Engineering Foundation Batch',\n",
       "   'live_status': 'Recorded',\n",
       "   'exam': 'ENGINEERING',\n",
       "   'sortingparam': '4.00',\n",
       "   'subject': 'Civil Engg. by Ketan Sir',\n",
       "   'topic': 'Environmental Engineering',\n",
       "   'section': '',\n",
       "   'pdf_link': \"<a href='https://downloadexampur.appx.co.in/paidcourse2/0.85144436448689431621320120192.pdf' >https://downloadexampur.appx.co.in/paidcourse2/0.85144436448689431621320120192.pdf</a>\",\n",
       "   'date_and_time': '18-05-2021 at 12:12 PM',\n",
       "   'download_link': \"<a href='https://vod.teachx.in/videos/GPknmGjD-5S4ICibK.mp4' >https://vod.teachx.in/videos/GPknmGjD-5S4ICibK.mp4</a>\",\n",
       "   'file_size': '186',\n",
       "   'Delete': \"<a href='deletelivecoursevideopdf3.php?id=18734&type=video' class='btn btn-danger deleteconfirm'>Delete</a>\",\n",
       "   'Edit': \"<a href='editlivecoursevideo3.php?id=18734' class='btn btn-primary'>Edit</a>\",\n",
       "   'enable_btn': '<button class=\"btn btn-sm btn-warning enable-btn\" data-id=\"18734\" data-enable=\"0\">Disable</button>'}}]"
      ]
     },
     "execution_count": 15,
     "metadata": {},
     "output_type": "execute_result"
    }
   ],
   "source": [
    "data"
   ]
  },
  {
   "cell_type": "code",
   "execution_count": null,
   "id": "87c52e72",
   "metadata": {},
   "outputs": [],
   "source": []
  },
  {
   "cell_type": "code",
   "execution_count": null,
   "id": "2017e498",
   "metadata": {},
   "outputs": [],
   "source": []
  },
  {
   "cell_type": "code",
   "execution_count": 2,
   "id": "b9e8e3c4",
   "metadata": {},
   "outputs": [
    {
     "name": "stdout",
     "output_type": "stream",
     "text": [
      "6\n"
     ]
    }
   ],
   "source": [
    "class UserMainCode:\n",
    "    @classmethod\n",
    "    def totalConfiguration(cls, input1, input2):\n",
    "        cls.N = input1\n",
    "        cls.K = input2\n",
    "        cls.W = 0 \n",
    "\n",
    "        if cls.N <= 0 or cls.K <= 0:\n",
    "            return 0\n",
    "        elif cls.N > cls.K:\n",
    "            return 0\n",
    "        elif cls.N == cls.K:\n",
    "            return 1\n",
    "        elif cls.K > 2**(cls.N - 1):\n",
    "            return 0\n",
    "\n",
    "        A = Node(1)\n",
    "        B = Node(1)\n",
    "        level = 2\n",
    "        A.add_child(B)\n",
    "        cls.do(B, level)\n",
    "        return cls.W\n",
    "\n",
    "    @classmethod\n",
    "    def do(cls, node, level):\n",
    "        if level == cls.N:\n",
    "            if node.total == cls.K:\n",
    "                cls.W += 1\n",
    "            return\n",
    "\n",
    "        for i in range(1, node.total + 1):\n",
    "            child = Node(i)\n",
    "            node.add_child(child)\n",
    "            cls.do(child, level + 1)\n",
    "\n",
    "\n",
    "class Node:\n",
    "    def __init__(self, val):\n",
    "        self.value = val\n",
    "        self.children = []\n",
    "        self.total = self.value\n",
    "\n",
    "    def add_child(self, node):\n",
    "        node.total += self.total\n",
    "        if node.total <= self.total:\n",
    "            self.children.append(node)\n",
    "            \n",
    "            \n",
    "p = UserMainCode()\n",
    "print(p.solve(5, 10))"
   ]
  },
  {
   "cell_type": "code",
   "execution_count": 9,
   "id": "05e7dffa",
   "metadata": {},
   "outputs": [
    {
     "name": "stdout",
     "output_type": "stream",
     "text": [
      "['12', '42', '11']\n",
      "11\n"
     ]
    }
   ],
   "source": [
    "def is_prime(n):\n",
    "    for i in range(2,n):\n",
    "        if (n%i) == 0:\n",
    "            return False\n",
    "    return True\n",
    "def findPrimesByGrouping(largeNumber, groupingCount):\n",
    "    l = [largeNumber[i:i+groupingCount] for i in range(0, len(largeNumber)-groupingCount+1, groupingCount)]\n",
    "    ans = []\n",
    "    for ele in l:\n",
    "        if is_prime(int(ele)):\n",
    "            ans.append(ele)\n",
    "    if len(ans) > 0:\n",
    "        for ele in ans:\n",
    "            print(ele)\n",
    "    else:\n",
    "        print('NA')\n",
    "findPrimesByGrouping('124211', 2)"
   ]
  },
  {
   "cell_type": "code",
   "execution_count": 4,
   "id": "47158313",
   "metadata": {},
   "outputs": [
    {
     "name": "stdout",
     "output_type": "stream",
     "text": [
      "<module 'sys' (built-in)>\n"
     ]
    }
   ],
   "source": [
    "import sys\n",
    "print(sys)"
   ]
  },
  {
   "cell_type": "code",
   "execution_count": 14,
   "id": "159ce556",
   "metadata": {},
   "outputs": [
    {
     "name": "stdout",
     "output_type": "stream",
     "text": [
      "6\n",
      "1 3 6 1 5 2\n",
      "10\n"
     ]
    }
   ],
   "source": [
    "def candy(R):\n",
    "    n, ans = len(R), [1]*len(R)\n",
    "\n",
    "    for i in range(n-1):\n",
    "        if R[i] < R[i+1]:\n",
    "            ans[i+1] = max(1 + ans[i], ans[i+1])\n",
    "\n",
    "    for i in range(n-2, -1, -1):\n",
    "        if R[i+1] < R[i]:\n",
    "            ans[i] = max(1 + ans[i+1], ans[i])\n",
    "\n",
    "    return sum(ans)\n",
    "n = int(input())\n",
    "l = list(map(int, input().split(' ')))\n",
    "print(candy(l))"
   ]
  },
  {
   "cell_type": "code",
   "execution_count": 12,
   "id": "aa2e1319",
   "metadata": {},
   "outputs": [
    {
     "data": {
      "text/plain": [
       "1"
      ]
     },
     "execution_count": 12,
     "metadata": {},
     "output_type": "execute_result"
    }
   ],
   "source": [
    "def solve(A, B):\n",
    "    if A == 0: return 0\n",
    "    return B&1 if solve(A-1, (B+1)>>1) else int(not(B&1))"
   ]
  },
  {
   "cell_type": "code",
   "execution_count": null,
   "id": "55e20389",
   "metadata": {},
   "outputs": [],
   "source": [
    "def grid(grid, r, c):\n",
    "    if r <= 0 or c <= 0:\n",
    "        return 0\n",
    "    visited = [False ]"
   ]
  },
  {
   "cell_type": "code",
   "execution_count": 35,
   "id": "74ad8e7b",
   "metadata": {},
   "outputs": [
    {
     "name": "stdout",
     "output_type": "stream",
     "text": [
      "4\n",
      "1 3 4 2\n",
      "yes\n"
     ]
    }
   ],
   "source": [
    "n = int(input())\n",
    "l = list(map(int, input().split(' ')))\n",
    "\n",
    "left, right = 0, n-1\n",
    "\n",
    "flag = 0\n",
    "cur_low = float('-inf')\n",
    "while left <= right:\n",
    "    if cur_low <= l[left] <= l[right]:\n",
    "        cur_low = l[right]\n",
    "        left += 1\n",
    "        right -= 1\n",
    "    elif cur_low <= l[right] <= l[left]:\n",
    "        cur_low = l[left]\n",
    "        left += 1\n",
    "        right -= 1\n",
    "    else:\n",
    "        flag = 1\n",
    "        break\n",
    "if flag:\n",
    "    print('no')\n",
    "else:\n",
    "    print('yes')"
   ]
  },
  {
   "cell_type": "code",
   "execution_count": 39,
   "id": "cdce159c",
   "metadata": {},
   "outputs": [
    {
     "name": "stdout",
     "output_type": "stream",
     "text": [
      "4\n",
      "1 3 4 2\n",
      "yes\n"
     ]
    }
   ],
   "source": [
    "def isSpiralSorted(arr, n):\n",
    "    start,end  = 0, n - 1\n",
    "    while (start < end):\n",
    "        if (arr[start] > arr[end]):\n",
    "            return False\n",
    "        start += 1\n",
    "        if (arr[end] > arr[start]):\n",
    "            return False\n",
    "        end -= 1\n",
    "    return True\n",
    "n = int(input())\n",
    "l = list(map(int, input().split(' ')))\n",
    "print('yes') if isSpiralSorted(l, n) else print('no')"
   ]
  },
  {
   "cell_type": "code",
   "execution_count": null,
   "id": "80746ba9",
   "metadata": {},
   "outputs": [],
   "source": []
  },
  {
   "cell_type": "code",
   "execution_count": 47,
   "id": "138bdbdd",
   "metadata": {},
   "outputs": [
    {
     "name": "stdout",
     "output_type": "stream",
     "text": [
      "dsfsdf 2\n"
     ]
    }
   ],
   "source": [
    "string, count = input().split(' ')\n",
    "count = int(count)"
   ]
  },
  {
   "cell_type": "code",
   "execution_count": 49,
   "id": "2ca1f33f",
   "metadata": {},
   "outputs": [
    {
     "data": {
      "text/plain": [
       "'dsfsdf'"
      ]
     },
     "execution_count": 49,
     "metadata": {},
     "output_type": "execute_result"
    }
   ],
   "source": [
    "n = int(input())\n",
    "i_machine = list(map(str, input().split(' ')))\n",
    "r = int(input())\n",
    "r_list = []\n",
    "for _ in range(r):\n",
    "    domain = input()\n",
    "    number = int(input())\n",
    "    ip = list(map(str, input().split(' ')))\n",
    "    r_list.append([domain, ip])\n",
    "q = int(input())\n",
    "q_list = []\n",
    "for _ in range(q):\n",
    "    path = input()\n",
    "    q_list.append(path)\n",
    "from collections import deque\n",
    "d_mapping = dict()\n",
    "for (domain, ip) in r_list:\n",
    "    d_mapping[domain] = deque(ip)\n",
    "ip_mapping = dict()\n",
    "for ip in i_machine:\n",
    "    ip_mapping[ip] = []\n",
    "for q in q_list:\n",
    "    domain = q.split('/')\n",
    "    host = domain[0]\n",
    "    route = domain[1]\n",
    "    if 'machine_down' in route:\n",
    "        #remove machine from d_maping\n",
    "        ip = route.split('?ip=')[1]\n",
    "        d_mapping[host].remove(ip)\n",
    "    elif 'machine_up'in route:\n",
    "        #add machine to domain if present in i_machine\n",
    "        ip = route.split('?ip=')[1]\n",
    "        if ip in i_machine:\n",
    "            d_mapping[host].appendleft(ip)\n",
    "    else:\n",
    "        #increase ip_mapping count\n",
    "        ip_l = d_mapping[host]\n",
    "        ip = ip_l.popleft()\n",
    "        ip_mapping[ip].append(q)\n",
    "        ip_l.append(ip)\n",
    "        d_mapping[host] = ip_l\n",
    "for ip in ip_mapping:\n",
    "    print(ip)\n",
    "    for i in ip_mapping[ip]:\n",
    "        print(i)"
   ]
  },
  {
   "cell_type": "code",
   "execution_count": 50,
   "id": "8bd69988",
   "metadata": {},
   "outputs": [
    {
     "name": "stdout",
     "output_type": "stream",
     "text": [
      "4\n",
      "1.2.3.1 1.2.3.2 1.2.3.4 1.2.3.5\n",
      "2\n",
      "www1.awesome.api\n",
      "2\n",
      "1.2.3.1 1.2.3.4\n",
      "www2.awesome.api\n",
      "2\n",
      "1.2.3.2 1.2.3.5\n",
      "13\n",
      "www1.awesome.api/get/users\n",
      "www1.awesome.api/delete?id=2\n",
      "www2.awesome.api/update/user\n",
      "www2.awesome.api/get/user?id=1\n",
      "www1.awesome.api/machine_down?ip=1.2.3.4\n",
      "www2.awesome.api/pincheck\n",
      "www1.awesome.api/pincheck\n",
      "www1.awesome.api/pincheck\n",
      "www1.awesome.api/pincheck\n",
      "www1.awesome.api/machine_up?ip=1.2.3.4\n",
      "www1.awesome.api/pincheck\n",
      "www1.awesome.api/pincheck\n",
      "www1.awesome.api/pincheck\n"
     ]
    }
   ],
   "source": [
    "n = int(input())\n",
    "i_machine = list(map(str, input().split(' ')))\n",
    "r = int(input())\n",
    "r_list = []\n",
    "for _ in range(r):\n",
    "    domain = input()\n",
    "    number = int(input())\n",
    "    ip = list(map(str, input().split(' ')))\n",
    "    r_list.append([domain, ip])\n",
    "q = int(input())\n",
    "q_list = []\n",
    "for _ in range(q):\n",
    "    path = input()\n",
    "    q_list.append(path)\n"
   ]
  },
  {
   "cell_type": "code",
   "execution_count": 72,
   "id": "a9545350",
   "metadata": {},
   "outputs": [],
   "source": [
    "from collections import deque\n",
    "d_mapping = dict()\n",
    "for (domain, ip) in r_list:\n",
    "    d_mapping[domain] = deque(ip)\n",
    "ip_mapping = dict()\n",
    "for ip in i_machine:\n",
    "    ip_mapping[ip] = []\n",
    "for q in q_list:\n",
    "    domain = q.split('/')\n",
    "    host = domain[0]\n",
    "    route = domain[1]\n",
    "    if 'machine_down' in route:\n",
    "        #remove machine from d_maping\n",
    "        ip = route.split('?ip=')[1]\n",
    "        d_mapping[host].remove(ip)\n",
    "    elif 'machine_up'in route:\n",
    "        #add machine to domain if present in i_machine\n",
    "        ip = route.split('?ip=')[1]\n",
    "        if ip in i_machine:\n",
    "            d_mapping[host].appendleft(ip)\n",
    "    else:\n",
    "        #increase ip_mapping count\n",
    "        ip_l = d_mapping[host]\n",
    "        ip = ip_l.popleft()\n",
    "        ip_mapping[ip].append(q)\n",
    "        ip_l.append(ip)\n",
    "        d_mapping[host] = ip_l"
   ]
  },
  {
   "cell_type": "code",
   "execution_count": 73,
   "id": "554463c0",
   "metadata": {},
   "outputs": [
    {
     "name": "stdout",
     "output_type": "stream",
     "text": [
      "1.2.3.1\n",
      "www1.awesome.api/get/users\n",
      "www1.awesome.api/pincheck\n",
      "www1.awesome.api/pincheck\n",
      "www1.awesome.api/pincheck\n",
      "www1.awesome.api/pincheck\n",
      "1.2.3.2\n",
      "www2.awesome.api/update/user\n",
      "www2.awesome.api/pincheck\n",
      "1.2.3.4\n",
      "www1.awesome.api/delete?id=2\n",
      "www1.awesome.api/pincheck\n",
      "www1.awesome.api/pincheck\n",
      "1.2.3.5\n",
      "www2.awesome.api/get/user?id=1\n"
     ]
    }
   ],
   "source": [
    "for ip in ip_mapping:\n",
    "    print(ip)\n",
    "    for i in ip_mapping[ip]:\n",
    "        print(i)"
   ]
  },
  {
   "cell_type": "code",
   "execution_count": 60,
   "id": "c203e99a",
   "metadata": {},
   "outputs": [
    {
     "data": {
      "text/plain": [
       "{'www1.awesome.api': deque(['1.2.3.1', '1.2.3.4']),\n",
       " 'www2.awesome.api': deque(['1.2.3.2', '1.2.3.5'])}"
      ]
     },
     "execution_count": 60,
     "metadata": {},
     "output_type": "execute_result"
    }
   ],
   "source": [
    "d_mapping"
   ]
  },
  {
   "cell_type": "code",
   "execution_count": 1,
   "id": "0827d07f",
   "metadata": {},
   "outputs": [],
   "source": [
    "import torch\n",
    "use_cuda = torch.cuda.is_available()"
   ]
  },
  {
   "cell_type": "code",
   "execution_count": 2,
   "id": "c8ef9f77",
   "metadata": {},
   "outputs": [
    {
     "data": {
      "text/plain": [
       "False"
      ]
     },
     "execution_count": 2,
     "metadata": {},
     "output_type": "execute_result"
    }
   ],
   "source": [
    "use_cuda"
   ]
  },
  {
   "cell_type": "code",
   "execution_count": 5,
   "id": "2c3d0d44",
   "metadata": {},
   "outputs": [
    {
     "data": {
      "text/plain": [
       "tensor([1, 2, 3], device='mps:0')"
      ]
     },
     "execution_count": 5,
     "metadata": {},
     "output_type": "execute_result"
    }
   ],
   "source": [
    "import torch\n",
    "torch.tensor([1,2,3], device=\"mps\")"
   ]
  },
  {
   "cell_type": "code",
   "execution_count": null,
   "id": "022944d1",
   "metadata": {},
   "outputs": [],
   "source": [
    "n, k = map(int, input().split())\n",
    "l = list(map(int, input().split()))\n",
    "\n",
    "from collections import Counter\n",
    "c = Counter(l)\n",
    "\n",
    "c = {k: v for k, v in sorted(c.items(), key=lambda item: item[1], reverse=True)}\n",
    "\n",
    "count = 0\n",
    "unique = 0\n",
    "for key,v in c.items():\n",
    "    count += v\n",
    "    unique += 1\n",
    "    if count >= k:\n",
    "        break\n",
    "print(unique)"
   ]
  },
  {
   "cell_type": "code",
   "execution_count": 19,
   "id": "5abe8c76",
   "metadata": {},
   "outputs": [
    {
     "data": {
      "text/plain": [
       "3"
      ]
     },
     "execution_count": 19,
     "metadata": {},
     "output_type": "execute_result"
    }
   ],
   "source": [
    "k"
   ]
  },
  {
   "cell_type": "code",
   "execution_count": 2,
   "id": "32a8b4eb",
   "metadata": {},
   "outputs": [],
   "source": [
    "def minimum_cost(n, x):\n",
    "    mid = n//2\n",
    "    cost = 0\n",
    "    for i in range(n):\n",
    "        if x[i] %2 == 0 and x[mid] == 0:\n",
    "            cost += 0\n",
    "        if x[i] %2 == 1 and x[mid] == 1:\n",
    "            cost += 0\n",
    "        else:\n",
    "            cost += 1\n",
    "    return cost\n",
    "minimum_cost(3, [1,3,4])"
   ]
  },
  {
   "cell_type": "code",
   "execution_count": 27,
   "id": "57f6a67e",
   "metadata": {},
   "outputs": [],
   "source": [
    "arr = [7,12,3]\n",
    "from collections import Counter\n",
    "c = Counter(arr)\n",
    "\n",
    "c\n",
    "\n",
    "c = {k:v for k,v in sorted(c.items(), key=lambda item: [item[1], -item[0]], reverse=True)}\n",
    "\n",
    "res = []\n",
    "for k, v in c.items():\n",
    "    res.append([k,v])"
   ]
  },
  {
   "cell_type": "code",
   "execution_count": 14,
   "id": "a032a9aa",
   "metadata": {},
   "outputs": [
    {
     "name": "stdout",
     "output_type": "stream",
     "text": [
      "ASfuqNulS\n",
      "uK3FxNVTY\n"
     ]
    }
   ],
   "source": [
    "def createPartision(strips):\n",
    "    l = []\n",
    "    for word in strips:\n",
    "        t = [x for x in word]\n",
    "        t[0] = int(t[0])\n",
    "        l.append(t)\n",
    "#     print(l)\n",
    "    l = sorted(l, key= lambda x: x[0])\n",
    "#     print(l)\n",
    "    i = 0\n",
    "    for col in zip(*l):\n",
    "        if i == 0:\n",
    "            i += 1\n",
    "            continue\n",
    "        print(''.join(col))\n",
    "createPartision(['1Au', '4uF', '5qx', '7uV', '9SY', '8lT', '2SK', '6NN', '3f3'])"
   ]
  },
  {
   "cell_type": "code",
   "execution_count": 12,
   "id": "215edd57",
   "metadata": {},
   "outputs": [
    {
     "name": "stdout",
     "output_type": "stream",
     "text": [
      "1\n",
      "5\n",
      "5 6 6 6 7\n",
      "4\n"
     ]
    }
   ],
   "source": [
    "def subarray(arr, n):\n",
    "     \n",
    "    ans, temp = 1, 1\n",
    "    for i in range(1, n):\n",
    "        if arr[i] == arr[i - 1]:\n",
    "            temp = temp + 1\n",
    "        else:\n",
    "            ans = max(ans, temp)\n",
    "            temp = 1\n",
    "                 \n",
    "    ans = max(ans, temp)\n",
    "    return ans\n",
    "def long_seq(l, n):\n",
    "    ans_max = 0\n",
    "    for i in range(n):\n",
    "        temp1 = l.copy()\n",
    "        temp2 = l.copy()\n",
    "        temp2[i] += 1\n",
    "        ans_max = max([ans_max, subarray(temp1, n), subarray(temp2, n)])\n",
    "    return ans_max\n",
    "t = int(input())\n",
    "for _ in range(t):\n",
    "    n = int(input())\n",
    "    l = list(map(int, input().split(' ')))\n",
    "    print(long_seq(l, n))"
   ]
  },
  {
   "cell_type": "code",
   "execution_count": 4,
   "id": "16755cc6",
   "metadata": {},
   "outputs": [
    {
     "data": {
      "text/plain": [
       "[1, 2]"
      ]
     },
     "execution_count": 4,
     "metadata": {},
     "output_type": "execute_result"
    }
   ],
   "source": [
    "l = [1,2,3,4]\n",
    "l[0:2]"
   ]
  },
  {
   "cell_type": "code",
   "execution_count": 6,
   "id": "d0b4ad26",
   "metadata": {},
   "outputs": [],
   "source": [
    "tem = l.copy()"
   ]
  },
  {
   "cell_type": "code",
   "execution_count": 10,
   "id": "ed940fec",
   "metadata": {},
   "outputs": [
    {
     "ename": "TypeError",
     "evalue": "'int' object is not iterable",
     "output_type": "error",
     "traceback": [
      "\u001b[0;31m---------------------------------------------------------------------------\u001b[0m",
      "\u001b[0;31mTypeError\u001b[0m                                 Traceback (most recent call last)",
      "Cell \u001b[0;32mIn [10], line 1\u001b[0m\n\u001b[0;32m----> 1\u001b[0m tem \u001b[38;5;241m=\u001b[39m  l[:\u001b[38;5;241m2\u001b[39m] \u001b[38;5;241m+\u001b[39m \u001b[38;5;28;43mlist\u001b[39;49m\u001b[43m(\u001b[49m\u001b[43ml\u001b[49m\u001b[43m[\u001b[49m\u001b[38;5;241;43m2\u001b[39;49m\u001b[43m]\u001b[49m\u001b[43m)\u001b[49m\u001b[38;5;241m+\u001b[39ml[\u001b[38;5;241m3\u001b[39m:]\n",
      "\u001b[0;31mTypeError\u001b[0m: 'int' object is not iterable"
     ]
    }
   ],
   "source": [
    "tem =  l[:2] + list(l[2])+l[3:]"
   ]
  },
  {
   "cell_type": "code",
   "execution_count": 1,
   "id": "a5d417be",
   "metadata": {},
   "outputs": [
    {
     "ename": "ModuleNotFoundError",
     "evalue": "No module named 'pymongo'",
     "output_type": "error",
     "traceback": [
      "\u001b[0;31m---------------------------------------------------------------------------\u001b[0m",
      "\u001b[0;31mModuleNotFoundError\u001b[0m                       Traceback (most recent call last)",
      "Cell \u001b[0;32mIn [1], line 1\u001b[0m\n\u001b[0;32m----> 1\u001b[0m \u001b[38;5;28;01mimport\u001b[39;00m \u001b[38;5;21;01mpymongo\u001b[39;00m\n",
      "\u001b[0;31mModuleNotFoundError\u001b[0m: No module named 'pymongo'"
     ]
    }
   ],
   "source": [
    "import pymongo"
   ]
  },
  {
   "cell_type": "code",
   "execution_count": 3,
   "id": "03efd462",
   "metadata": {},
   "outputs": [
    {
     "name": "stdout",
     "output_type": "stream",
     "text": [
      "Collecting pymongo\n",
      "  Downloading pymongo-4.3.3-cp310-cp310-macosx_10_9_universal2.whl (413 kB)\n",
      "\u001b[2K     \u001b[90m━━━━━━━━━━━━━━━━━━━━━━━━━━━━━━━━━━━━━━━\u001b[0m \u001b[32m413.2/413.2 kB\u001b[0m \u001b[31m3.9 MB/s\u001b[0m eta \u001b[36m0:00:00\u001b[0ma \u001b[36m0:00:01\u001b[0m\n",
      "\u001b[?25hCollecting dnspython<3.0.0,>=1.16.0\n",
      "  Downloading dnspython-2.2.1-py3-none-any.whl (269 kB)\n",
      "\u001b[2K     \u001b[90m━━━━━━━━━━━━━━━━━━━━━━━━━━━━━━━━━━━━━━━\u001b[0m \u001b[32m269.1/269.1 kB\u001b[0m \u001b[31m2.6 MB/s\u001b[0m eta \u001b[36m0:00:00\u001b[0ma \u001b[36m0:00:01\u001b[0m\n",
      "\u001b[?25hInstalling collected packages: dnspython, pymongo\n",
      "Successfully installed dnspython-2.2.1 pymongo-4.3.3\n",
      "\n",
      "\u001b[1m[\u001b[0m\u001b[34;49mnotice\u001b[0m\u001b[1;39;49m]\u001b[0m\u001b[39;49m A new release of pip available: \u001b[0m\u001b[31;49m22.2.2\u001b[0m\u001b[39;49m -> \u001b[0m\u001b[32;49m22.3.1\u001b[0m\n",
      "\u001b[1m[\u001b[0m\u001b[34;49mnotice\u001b[0m\u001b[1;39;49m]\u001b[0m\u001b[39;49m To update, run: \u001b[0m\u001b[32;49mpython3.10 -m pip install --upgrade pip\u001b[0m\n"
     ]
    }
   ],
   "source": [
    "import sys\n",
    "!{sys.executable} -m pip install pymongo"
   ]
  },
  {
   "cell_type": "code",
   "execution_count": 4,
   "id": "e8219ec2",
   "metadata": {},
   "outputs": [],
   "source": [
    "import pymongo"
   ]
  },
  {
   "cell_type": "code",
   "execution_count": null,
   "id": "b8e967a1",
   "metadata": {},
   "outputs": [],
   "source": []
  }
 ],
 "metadata": {
  "kernelspec": {
   "display_name": "Python 3 (ipykernel)",
   "language": "python",
   "name": "python3"
  },
  "language_info": {
   "codemirror_mode": {
    "name": "ipython",
    "version": 3
   },
   "file_extension": ".py",
   "mimetype": "text/x-python",
   "name": "python",
   "nbconvert_exporter": "python",
   "pygments_lexer": "ipython3",
   "version": "3.10.8"
  }
 },
 "nbformat": 4,
 "nbformat_minor": 5
}
