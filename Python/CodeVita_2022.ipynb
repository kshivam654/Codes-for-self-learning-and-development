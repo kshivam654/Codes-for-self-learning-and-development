{
 "cells": [
  {
   "cell_type": "markdown",
   "id": "3754716c",
   "metadata": {},
   "source": [
    "## Prime Construction"
   ]
  },
  {
   "cell_type": "code",
   "execution_count": 3,
   "id": "da55abab",
   "metadata": {},
   "outputs": [
    {
     "name": "stdout",
     "output_type": "stream",
     "text": [
      "3 4 5 2\n",
      "[3, 4, 5, 2]\n",
      "None\n"
     ]
    }
   ],
   "source": [
    "import math\n",
    "def primeConstruction(arr):\n",
    "    q = min(arr)\n",
    "    lcm = 1\n",
    "    for i in arr:\n",
    "        lcm = lcm*i//math.gcd(lcm, i)\n",
    "    r = lcm+q\n",
    "    a = 2\n",
    "    while r > a:\n",
    "        if r % a == 0 & a != r:\n",
    "            return None\n",
    "        else:\n",
    "            return r\n",
    "        a = r+1\n",
    "print(primeConstruction(list(map(int, input().split()))))"
   ]
  },
  {
   "cell_type": "markdown",
   "id": "3e52a8ad",
   "metadata": {},
   "source": [
    "### Simple Game\n",
    "#include <bits/stdc++.h> \n",
    "using namespace std; \n",
    "class Solution{ \n",
    "public: \n",
    "int win[8][3] = {{0, 1, 2}, \n",
    "                {3, 4, 5}, \n",
    "                {6, 7, 8}, \n",
    "                {0, 3, 6}, \n",
    "                {1, 4, 7}, \n",
    "                {2, 5, 8}, \n",
    "                {0, 4, 8}, \n",
    "                {2, 4, 6}}; \n",
    "bool isCWin(char *board, char c) \n",
    "{ \n",
    "    for (int i=0; i<8; i++) \n",
    "        if (board[win[i][0]] == c && \n",
    "            board[win[i][1]] == c && \n",
    "            board[win[i][2]] == c ) \n",
    "            return true; \n",
    "    return false; \n",
    "} \n",
    "    bool isValid(char board[9]){ \n",
    "        int xCount=0, oCount=0; \n",
    "    for (int i=0; i<9; i++) \n",
    "    { \n",
    "        if (board[i]=='X') xCount++; \n",
    "        if (board[i]=='O') oCount++; \n",
    "    } \n",
    "    if (xCount==oCount || xCount==oCount+1) \n",
    "    { \n",
    "        if (isCWin(board, 'O')) \n",
    "        { \n",
    "            if (isCWin(board, 'X')) \n",
    "                return false; \n",
    "            return (xCount == oCount); \n",
    "        } \n",
    "        if (isCWin(board, 'X') && xCount != oCount + 1) \n",
    "        return false; \n",
    "        return true; \n",
    "    } \n",
    "    return false; \n",
    "    } \n",
    "}; \n",
    "int main() { \n",
    "    char board[9]; \n",
    "    for (int i = 0; i < 9; i++) { \n",
    "        cin >> board[i]; \n",
    "    } \n",
    "    Solution ob; \n",
    "    auto ans = ob.isValid(board); \n",
    "    cout << (ans ? \"YES\\n\" : \"NO\\n\"); \n",
    "    return 0; \n",
    "}"
   ]
  },
  {
   "cell_type": "markdown",
   "id": "439bf873",
   "metadata": {},
   "source": [
    "### Jugs and Cup"
   ]
  },
  {
   "cell_type": "code",
   "execution_count": 63,
   "id": "6ddabf87",
   "metadata": {},
   "outputs": [],
   "source": [
    "def knapsackProblem(items, capacity):\n",
    "    knapsackValues = [[0 for x in range(0, capacity + 1)] for y in range(0, len(items) + 1)]\n",
    "    for i in range(1, len(items) + 1):\n",
    "        currentWeight = items[i - 1][1]\n",
    "        currentValue = items[i - 1][0]\n",
    "        for c in range(0, capacity + 1):\n",
    "            if currentWeight > c:\n",
    "                knapsackValues[i][c] = knapsackValues[i - 1][c]\n",
    "            else:\n",
    "                knapsackValues[i][c] = max(knapsackValues[i - 1][c], knapsackValues[i - 1][c - currentWeight] + currentValue)\n",
    "    return [knapsackValues[-1][-1], getKnapsackItems(knapsackValues, items)]\n",
    "\n",
    "def getKnapsackItems(knapsackValues, items):\n",
    "    sequence = []\n",
    "    i = len(knapsackValues) - 1\n",
    "    c = len(knapsackValues[0]) - 1\n",
    "    while i > 0:\n",
    "        if knapsackValues[i][c] == knapsackValues[i - 1][c]:\n",
    "            i -= 1\n",
    "        else:\n",
    "            sequence.append(i - 1)\n",
    "            c -= items[i - 1][1]\n",
    "            i -= 1\n",
    "        if c == 0:\n",
    "            break\n",
    "    return list(reversed(sequence))"
   ]
  },
  {
   "cell_type": "code",
   "execution_count": 68,
   "id": "e2dbf3d6",
   "metadata": {},
   "outputs": [
    {
     "name": "stdout",
     "output_type": "stream",
     "text": [
      "Currency Count -> \n",
      "3  :  29\n"
     ]
    }
   ],
   "source": [
    "def countCurrency(amount):\n",
    "     \n",
    "    notes = [3,7,10,11]\n",
    "                \n",
    "    noteCounter = [0, 0, 0, 0]\n",
    "     \n",
    "    print (\"Currency Count -> \")\n",
    "     \n",
    "    for i, j in zip(notes, noteCounter):\n",
    "        if amount >= i:\n",
    "            j = amount // i\n",
    "            amount = amount - j * i\n",
    "            print (i ,\" : \", j)\n",
    "amount = 88\n",
    "countCurrency(amount)"
   ]
  },
  {
   "cell_type": "code",
   "execution_count": 66,
   "id": "1b0636ad",
   "metadata": {},
   "outputs": [
    {
     "name": "stdout",
     "output_type": "stream",
     "text": [
      "4\n",
      "3 7 10 11\n",
      "88\n"
     ]
    },
    {
     "ename": "TypeError",
     "evalue": "unsupported operand type(s) for +: 'int' and 'str'",
     "output_type": "error",
     "traceback": [
      "\u001b[0;31m---------------------------------------------------------------------------\u001b[0m",
      "\u001b[0;31mTypeError\u001b[0m                                 Traceback (most recent call last)",
      "\u001b[0;32m/var/folders/qg/95cbyh_564vbrm_c42_67mfc0000gn/T/ipykernel_54218/1661798171.py\u001b[0m in \u001b[0;36m<module>\u001b[0;34m\u001b[0m\n\u001b[1;32m      2\u001b[0m \u001b[0mcups\u001b[0m \u001b[0;34m=\u001b[0m \u001b[0mlist\u001b[0m\u001b[0;34m(\u001b[0m\u001b[0mmap\u001b[0m\u001b[0;34m(\u001b[0m\u001b[0mint\u001b[0m\u001b[0;34m,\u001b[0m \u001b[0minput\u001b[0m\u001b[0;34m(\u001b[0m\u001b[0;34m)\u001b[0m\u001b[0;34m.\u001b[0m\u001b[0msplit\u001b[0m\u001b[0;34m(\u001b[0m\u001b[0;34m)\u001b[0m\u001b[0;34m)\u001b[0m\u001b[0;34m)\u001b[0m\u001b[0;34m\u001b[0m\u001b[0;34m\u001b[0m\u001b[0m\n\u001b[1;32m      3\u001b[0m \u001b[0mcapacity\u001b[0m \u001b[0;34m=\u001b[0m \u001b[0mint\u001b[0m\u001b[0;34m(\u001b[0m\u001b[0minput\u001b[0m\u001b[0;34m(\u001b[0m\u001b[0;34m)\u001b[0m\u001b[0;34m)\u001b[0m\u001b[0;34m\u001b[0m\u001b[0;34m\u001b[0m\u001b[0m\n\u001b[0;32m----> 4\u001b[0;31m \u001b[0mans\u001b[0m \u001b[0;34m=\u001b[0m \u001b[0mknapsackProblem\u001b[0m\u001b[0;34m(\u001b[0m\u001b[0;34m[\u001b[0m\u001b[0;34m[\u001b[0m\u001b[0;34m'A'\u001b[0m\u001b[0;34m,\u001b[0m\u001b[0mx\u001b[0m\u001b[0;34m]\u001b[0m \u001b[0;32mfor\u001b[0m \u001b[0mx\u001b[0m \u001b[0;32min\u001b[0m \u001b[0mcups\u001b[0m\u001b[0;34m]\u001b[0m\u001b[0;34m,\u001b[0m \u001b[0mcapacity\u001b[0m\u001b[0;34m)\u001b[0m\u001b[0;34m\u001b[0m\u001b[0;34m\u001b[0m\u001b[0m\n\u001b[0m\u001b[1;32m      5\u001b[0m \u001b[0mprint\u001b[0m\u001b[0;34m(\u001b[0m\u001b[0mans\u001b[0m\u001b[0;34m)\u001b[0m\u001b[0;34m\u001b[0m\u001b[0;34m\u001b[0m\u001b[0m\n",
      "\u001b[0;32m/var/folders/qg/95cbyh_564vbrm_c42_67mfc0000gn/T/ipykernel_54218/718800222.py\u001b[0m in \u001b[0;36mknapsackProblem\u001b[0;34m(items, capacity)\u001b[0m\n\u001b[1;32m      8\u001b[0m                 \u001b[0mknapsackValues\u001b[0m\u001b[0;34m[\u001b[0m\u001b[0mi\u001b[0m\u001b[0;34m]\u001b[0m\u001b[0;34m[\u001b[0m\u001b[0mc\u001b[0m\u001b[0;34m]\u001b[0m \u001b[0;34m=\u001b[0m \u001b[0mknapsackValues\u001b[0m\u001b[0;34m[\u001b[0m\u001b[0mi\u001b[0m \u001b[0;34m-\u001b[0m \u001b[0;36m1\u001b[0m\u001b[0;34m]\u001b[0m\u001b[0;34m[\u001b[0m\u001b[0mc\u001b[0m\u001b[0;34m]\u001b[0m\u001b[0;34m\u001b[0m\u001b[0;34m\u001b[0m\u001b[0m\n\u001b[1;32m      9\u001b[0m             \u001b[0;32melse\u001b[0m\u001b[0;34m:\u001b[0m\u001b[0;34m\u001b[0m\u001b[0;34m\u001b[0m\u001b[0m\n\u001b[0;32m---> 10\u001b[0;31m                 \u001b[0mknapsackValues\u001b[0m\u001b[0;34m[\u001b[0m\u001b[0mi\u001b[0m\u001b[0;34m]\u001b[0m\u001b[0;34m[\u001b[0m\u001b[0mc\u001b[0m\u001b[0;34m]\u001b[0m \u001b[0;34m=\u001b[0m \u001b[0mmax\u001b[0m\u001b[0;34m(\u001b[0m\u001b[0mknapsackValues\u001b[0m\u001b[0;34m[\u001b[0m\u001b[0mi\u001b[0m \u001b[0;34m-\u001b[0m \u001b[0;36m1\u001b[0m\u001b[0;34m]\u001b[0m\u001b[0;34m[\u001b[0m\u001b[0mc\u001b[0m\u001b[0;34m]\u001b[0m\u001b[0;34m,\u001b[0m \u001b[0mknapsackValues\u001b[0m\u001b[0;34m[\u001b[0m\u001b[0mi\u001b[0m \u001b[0;34m-\u001b[0m \u001b[0;36m1\u001b[0m\u001b[0;34m]\u001b[0m\u001b[0;34m[\u001b[0m\u001b[0mc\u001b[0m \u001b[0;34m-\u001b[0m \u001b[0mcurrentWeight\u001b[0m\u001b[0;34m]\u001b[0m \u001b[0;34m+\u001b[0m \u001b[0mcurrentValue\u001b[0m\u001b[0;34m)\u001b[0m\u001b[0;34m\u001b[0m\u001b[0;34m\u001b[0m\u001b[0m\n\u001b[0m\u001b[1;32m     11\u001b[0m     \u001b[0;32mreturn\u001b[0m \u001b[0;34m[\u001b[0m\u001b[0mknapsackValues\u001b[0m\u001b[0;34m[\u001b[0m\u001b[0;34m-\u001b[0m\u001b[0;36m1\u001b[0m\u001b[0;34m]\u001b[0m\u001b[0;34m[\u001b[0m\u001b[0;34m-\u001b[0m\u001b[0;36m1\u001b[0m\u001b[0;34m]\u001b[0m\u001b[0;34m,\u001b[0m \u001b[0mgetKnapsackItems\u001b[0m\u001b[0;34m(\u001b[0m\u001b[0mknapsackValues\u001b[0m\u001b[0;34m,\u001b[0m \u001b[0mitems\u001b[0m\u001b[0;34m)\u001b[0m\u001b[0;34m]\u001b[0m\u001b[0;34m\u001b[0m\u001b[0;34m\u001b[0m\u001b[0m\n\u001b[1;32m     12\u001b[0m \u001b[0;34m\u001b[0m\u001b[0m\n",
      "\u001b[0;31mTypeError\u001b[0m: unsupported operand type(s) for +: 'int' and 'str'"
     ]
    }
   ],
   "source": [
    "n = int(input())\n",
    "cups = list(map(int, input().split()))\n",
    "capacity = int(input())\n",
    "ans = knapsackProblem([[0,x] for x in cups], capacity)\n",
    "print(ans)"
   ]
  },
  {
   "cell_type": "markdown",
   "id": "ae201679",
   "metadata": {},
   "source": [
    "### Food Belt"
   ]
  },
  {
   "cell_type": "code",
   "execution_count": 36,
   "id": "9593e3bd",
   "metadata": {
    "scrolled": true
   },
   "outputs": [
    {
     "name": "stdout",
     "output_type": "stream",
     "text": [
      "3 3\n",
      "1 2 3\n",
      "6 5 4\n",
      "7 8 9\n",
      "5\n",
      "1\n",
      "5 6 7\n",
      "1 9 8\n",
      "2 3 4\n",
      "[1,0]\n"
     ]
    }
   ],
   "source": [
    "m, n = map(int, input().split())\n",
    "matrix = []\n",
    "for i in range(m):\n",
    "    l = list(map(str, input().split()))\n",
    "    if i%2 == 0:\n",
    "        matrix.extend(l)\n",
    "    else:\n",
    "        matrix.extend(l[::-1])\n",
    "\n",
    "def rotate(matrix, r):\n",
    "    end = len(matrix)\n",
    "    k = matrix[end-r: end] + matrix[0:end-r]\n",
    "    return k\n",
    "r = int(input())\n",
    "tempAns = rotate(matrix, r)\n",
    "f = input()\n",
    "ans = []\n",
    "res = [tempAns[i:i+n] for i in range(0,len(tempAns),n)]\n",
    "# print(res)\n",
    "for i in range(m):\n",
    "    if i%2 == 0:\n",
    "        print(' '.join(res[i]))\n",
    "        ans.append(res[i])\n",
    "    else:\n",
    "        print(' '.join(res[i][::-1]))\n",
    "        ans.append(res[i][::-1])\n",
    "for i in range(m):\n",
    "    for j in range(n):\n",
    "        if ans[i][j] == f:\n",
    "            print('[{},{}]'.format(i, j))\n",
    "            break"
   ]
  },
  {
   "cell_type": "code",
   "execution_count": 24,
   "id": "2cf34672",
   "metadata": {},
   "outputs": [
    {
     "data": {
      "text/plain": [
       "['F1',\n",
       " 'F2',\n",
       " 'F3',\n",
       " 'F4',\n",
       " 'F8',\n",
       " 'F7',\n",
       " 'F6',\n",
       " 'F5',\n",
       " 'F9',\n",
       " 'F10',\n",
       " 'F11',\n",
       " 'F12',\n",
       " 'F16',\n",
       " 'F15',\n",
       " 'F14',\n",
       " 'F13']"
      ]
     },
     "execution_count": 24,
     "metadata": {},
     "output_type": "execute_result"
    }
   ],
   "source": [
    "matrix"
   ]
  },
  {
   "cell_type": "markdown",
   "id": "a673e45b",
   "metadata": {},
   "source": [
    "### Mario Jump"
   ]
  },
  {
   "cell_type": "code",
   "execution_count": 40,
   "id": "2b53dad6",
   "metadata": {
    "scrolled": true
   },
   "outputs": [
    {
     "name": "stdout",
     "output_type": "stream",
     "text": [
      "5 10\n",
      "0000000000\n",
      "0CCC00000H\n",
      "0CCC0H0000\n",
      "00000H0H0H\n",
      "00000H0H0H\n"
     ]
    }
   ],
   "source": [
    "m, n = map(int, input().split())\n",
    "grid = []\n",
    "for _ in range(m):\n",
    "    l = [x for x in input()]\n",
    "    grid.append(l)\n",
    "totalCal, totalCoin = 0, 0\n",
    "for j in range(n):\n",
    "    if grid[m-1][j] == '0':\n",
    "        maxReach = 0\n",
    "        count = 0\n",
    "        for lev in range(m-1, -1, -1):\n",
    "            if grid[lev][j] == 'C':\n",
    "                count += 1\n",
    "                maxReach = max(maxReach, m-1-lev)\n",
    "        totalCoin += count\n",
    "        totalCal += 2*maxReach\n",
    "    else:\n",
    "        minReach = m-1\n",
    "        for lev in range(m-1, -1, -1):\n",
    "            if grid[lev][j] == '0':\n",
    "                minReach = min(minReach, m-1-lev)\n",
    "        totalCal += 2*minReach\n",
    "print('{} {}'.format(totalCoin, totalCal))"
   ]
  },
  {
   "cell_type": "markdown",
   "id": "882f0ce1",
   "metadata": {},
   "source": [
    "### Coin Collection"
   ]
  },
  {
   "cell_type": "code",
   "execution_count": 89,
   "id": "b3826dae",
   "metadata": {},
   "outputs": [
    {
     "name": "stdout",
     "output_type": "stream",
     "text": [
      "5\n",
      "NNNNN\n",
      "NNNNN\n",
      "NNNNN\n",
      "NCCCN\n",
      "NNNNN\n",
      "3 0\n"
     ]
    }
   ],
   "source": [
    "def coinGroup(grid):\n",
    "    def dfs(i, j):\n",
    "        if 0 <= i < m and 0 <= j < n and grid[i][j] == 'C':\n",
    "            grid[i][j] = 'N'\n",
    "            return 1 + dfs(i+1,j) + dfs(i-1, j) + dfs(i, j+1) + dfs(i, j-1)\n",
    "        else: return 0\n",
    "    m, n = len(grid), len(grid[0])\n",
    "    ans = [dfs(i, j) for i in range(m) for j in range(n) if grid[i][j]]\n",
    "    return ans if ans else 0\n",
    "\n",
    "n = int(input())\n",
    "grid = []\n",
    "for _ in range(n):\n",
    "    l = [x for x in input()]\n",
    "    grid.append(l)\n",
    "ans = coinGroup(grid)\n",
    "\n",
    "ans = [ele for ele in ans if ele != 0]\n",
    "\n",
    "ans.sort(reverse=True)\n",
    "player1, player2 = 0, 0\n",
    "for i in range(len(ans)):\n",
    "    if i%2 == 0:\n",
    "        player1 += ans[i]\n",
    "    else:\n",
    "        player2 += ans[i]\n",
    "print('{} {}'.format(player1, player2))"
   ]
  },
  {
   "cell_type": "code",
   "execution_count": 87,
   "id": "e4b69ae5",
   "metadata": {},
   "outputs": [
    {
     "data": {
      "text/plain": [
       "6"
      ]
     },
     "execution_count": 87,
     "metadata": {},
     "output_type": "execute_result"
    }
   ],
   "source": [
    "player1"
   ]
  },
  {
   "cell_type": "code",
   "execution_count": 88,
   "id": "a6985c9e",
   "metadata": {},
   "outputs": [
    {
     "data": {
      "text/plain": [
       "2"
      ]
     },
     "execution_count": 88,
     "metadata": {},
     "output_type": "execute_result"
    }
   ],
   "source": [
    "player2"
   ]
  },
  {
   "cell_type": "code",
   "execution_count": null,
   "id": "f074ffc2",
   "metadata": {},
   "outputs": [],
   "source": []
  }
 ],
 "metadata": {
  "kernelspec": {
   "display_name": "Python 3 (ipykernel)",
   "language": "python",
   "name": "python3"
  },
  "language_info": {
   "codemirror_mode": {
    "name": "ipython",
    "version": 3
   },
   "file_extension": ".py",
   "mimetype": "text/x-python",
   "name": "python",
   "nbconvert_exporter": "python",
   "pygments_lexer": "ipython3",
   "version": "3.9.7"
  }
 },
 "nbformat": 4,
 "nbformat_minor": 5
}
