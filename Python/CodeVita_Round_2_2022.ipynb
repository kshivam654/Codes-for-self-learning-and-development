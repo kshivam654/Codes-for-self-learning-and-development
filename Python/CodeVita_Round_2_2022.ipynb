{
 "cells": [
  {
   "cell_type": "markdown",
   "id": "13dc1bc2",
   "metadata": {},
   "source": [
    "### Escape Zoombie"
   ]
  },
  {
   "cell_type": "code",
   "execution_count": 77,
   "id": "59c80a7b",
   "metadata": {},
   "outputs": [
    {
     "name": "stdout",
     "output_type": "stream",
     "text": [
      "4 4\n",
      "1 2 3 4\n",
      "4 5 6 7\n",
      "8 8 0 6\n",
      "9 9 9 8\n",
      "6\n"
     ]
    }
   ],
   "source": [
    "n, m = map(int, input().split(' '))\n",
    "grid = []\n",
    "for i in range(n):\n",
    "    l = list(map(int, input().split(' ')))\n",
    "    grid.append(l)\n",
    "\n",
    "import queue\n",
    "visited = set()\n",
    "pq = queue.PriorityQueue()\n",
    "for i in range(n):\n",
    "    pq.put((grid[i][0], i, 0))\n",
    "    visited.add((i, 0))\n",
    "for j in range(m):\n",
    "    pq.put((grid[0][j], 0, j))\n",
    "    visited.add((0,j))\n",
    "mini = 10**9\n",
    "while pq:\n",
    "    l, r, c = pq.get()\n",
    "    visited.add((r,c))\n",
    "    if grid[r][c] == 0:\n",
    "        print(l)\n",
    "        break\n",
    "    for i, j in [(-1, -1), (-1, 0), (-1, 1), (0,-1), (0,1), (1,-1), (1,0), (1, 1)]:\n",
    "        if r+i >= 0 and r +i < n and c+j >= 0 and c+j < m and ((r+i, c+j)) not in visited:\n",
    "            pq.put((grid[r+i][c+j]+l, r+i, c+j))"
   ]
  },
  {
   "cell_type": "code",
   "execution_count": 65,
   "id": "9068a33a",
   "metadata": {
    "scrolled": false
   },
   "outputs": [
    {
     "name": "stdout",
     "output_type": "stream",
     "text": [
      "[inf, inf, inf, inf]\n",
      "[inf, 5, 6, 7]\n",
      "[inf, 8, inf, 7]\n",
      "[inf, 8, 9, 9]\n",
      "\n"
     ]
    }
   ],
   "source": [
    "dp = [[float('inf') for i in range(m)] for j in range(n)]\n",
    "\n",
    "pos_incs = [(-1, -1), (-1, 0), (-1, 1), (0,-1), (0,1), (1,-1), (1,0), (1, 1)]\n",
    "def expand(i, j, curSum):\n",
    "    for i_inc, j_inc in pos_incs:\n",
    "        ni, nj = i + i_inc, j + j_inc\n",
    "        if ni >= 0 and nj >= 0 and ni < n and nj < m:\n",
    "            if grid[ni][nj] == 0:\n",
    "                continue\n",
    "            dp[ni][nj] = min(dp[ni][nj], curSum+grid[ni][nj])\n",
    "        visited.add((ni, nj))\n",
    "    for row in dp:\n",
    "        print(row)\n",
    "    print()\n",
    "visited = set((idaryl, jdaryl))\n",
    "expand(idaryl, jdaryl, 0)"
   ]
  },
  {
   "cell_type": "code",
   "execution_count": 66,
   "id": "0e166383",
   "metadata": {},
   "outputs": [
    {
     "name": "stdout",
     "output_type": "stream",
     "text": [
      "[inf, inf, inf, inf]\n",
      "[inf, 5, 6, 7]\n",
      "[inf, 8, inf, 7]\n",
      "[inf, 8, 9, 9]\n"
     ]
    }
   ],
   "source": [
    "for r in dp:\n",
    "    print(r)"
   ]
  },
  {
   "cell_type": "code",
   "execution_count": 28,
   "id": "f1b30198",
   "metadata": {},
   "outputs": [
    {
     "data": {
      "text/plain": [
       "4"
      ]
     },
     "execution_count": 28,
     "metadata": {},
     "output_type": "execute_result"
    }
   ],
   "source": [
    "len(dp[0])"
   ]
  },
  {
   "cell_type": "code",
   "execution_count": null,
   "id": "01ce1835",
   "metadata": {},
   "outputs": [],
   "source": []
  }
 ],
 "metadata": {
  "kernelspec": {
   "display_name": "Python 3 (ipykernel)",
   "language": "python",
   "name": "python3"
  },
  "language_info": {
   "codemirror_mode": {
    "name": "ipython",
    "version": 3
   },
   "file_extension": ".py",
   "mimetype": "text/x-python",
   "name": "python",
   "nbconvert_exporter": "python",
   "pygments_lexer": "ipython3",
   "version": "3.9.7"
  }
 },
 "nbformat": 4,
 "nbformat_minor": 5
}
