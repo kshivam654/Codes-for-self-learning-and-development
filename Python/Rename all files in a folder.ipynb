{
 "cells": [
  {
   "cell_type": "code",
   "execution_count": 7,
   "id": "bd34fcae",
   "metadata": {},
   "outputs": [],
   "source": [
    "import os\n",
    "path = '/Users/shivam/StudioProjects/raahi/app/src/main/res/mipmap-anydpi-v26'\n",
    "arr = os.listdir(path)"
   ]
  },
  {
   "cell_type": "code",
   "execution_count": 9,
   "id": "d3c559ae",
   "metadata": {},
   "outputs": [
    {
     "name": "stdout",
     "output_type": "stream",
     "text": [
      "['correct.png', 'pin.png', 'Menu_profile.png', 'Home location.png', 'noun_Search_2738108.png', 'PM.png', 'map.png', 'Logout.png', 'Account Settings.png', 'current_Location.png', 'home.png', 'office location.png', 'next (4).png', 'alter.png', 'png-transparent-qr-code-barcode-scanners-scanner-q-text-rectangle-logo.png', 'Group 9826.png', 'Light Status Bar.png', 'Group 1127.png', 'Icon awesome-bus.png', 'Icon feather-search.png', 'menu.png', 'Help.png', 'Logo.png', 'WalletBalance.png', 'Ellipse 1.png', 'ic_launcher.xml', 'Icon feather-user.png', 'Icon material-edit.png', 'Car.png', 'Icon material-location-on.png', 'Share.png', 'Icon material-directions-walk.png', 'ic_launcher_round.xml', 'MyBookings.png', 'clock.png', 'map_pin.png', 'next.png', 'star.png', 'Dark Status Bar.png', 'Icon material-error.png', 'icons Q2.png', 'AM.png', 'previous.png', 'Back.png', 'bg.png', 'NewBooking.png']\n"
     ]
    }
   ],
   "source": [
    "print(arr)"
   ]
  },
  {
   "cell_type": "code",
   "execution_count": 12,
   "id": "8a012254",
   "metadata": {
    "scrolled": false
   },
   "outputs": [],
   "source": [
    "arr = [ele.lower().replace(' ', '_') for ele in arr]"
   ]
  },
  {
   "cell_type": "code",
   "execution_count": 13,
   "id": "58de509d",
   "metadata": {},
   "outputs": [
    {
     "data": {
      "text/plain": [
       "['correct.png',\n",
       " 'pin.png',\n",
       " 'menu_profile.png',\n",
       " 'home_location.png',\n",
       " 'noun_search_2738108.png',\n",
       " 'pm.png',\n",
       " 'map.png',\n",
       " 'logout.png',\n",
       " 'account_settings.png',\n",
       " 'current_location.png',\n",
       " 'home.png',\n",
       " 'office_location.png',\n",
       " 'next_(4).png',\n",
       " 'alter.png',\n",
       " 'png-transparent-qr-code-barcode-scanners-scanner-q-text-rectangle-logo.png',\n",
       " 'group_9826.png',\n",
       " 'light_status_bar.png',\n",
       " 'group_1127.png',\n",
       " 'icon_awesome-bus.png',\n",
       " 'icon_feather-search.png',\n",
       " 'menu.png',\n",
       " 'help.png',\n",
       " 'logo.png',\n",
       " 'walletbalance.png',\n",
       " 'ellipse_1.png',\n",
       " 'ic_launcher.xml',\n",
       " 'icon_feather-user.png',\n",
       " 'icon_material-edit.png',\n",
       " 'car.png',\n",
       " 'icon_material-location-on.png',\n",
       " 'share.png',\n",
       " 'icon_material-directions-walk.png',\n",
       " 'ic_launcher_round.xml',\n",
       " 'mybookings.png',\n",
       " 'clock.png',\n",
       " 'map_pin.png',\n",
       " 'next.png',\n",
       " 'star.png',\n",
       " 'dark_status_bar.png',\n",
       " 'icon_material-error.png',\n",
       " 'icons_q2.png',\n",
       " 'am.png',\n",
       " 'previous.png',\n",
       " 'back.png',\n",
       " 'bg.png',\n",
       " 'newbooking.png']"
      ]
     },
     "execution_count": 13,
     "metadata": {},
     "output_type": "execute_result"
    }
   ],
   "source": [
    "arr"
   ]
  },
  {
   "cell_type": "code",
   "execution_count": null,
   "id": "11bcbad3",
   "metadata": {},
   "outputs": [],
   "source": []
  }
 ],
 "metadata": {
  "kernelspec": {
   "display_name": "Python 3 (ipykernel)",
   "language": "python",
   "name": "python3"
  },
  "language_info": {
   "codemirror_mode": {
    "name": "ipython",
    "version": 3
   },
   "file_extension": ".py",
   "mimetype": "text/x-python",
   "name": "python",
   "nbconvert_exporter": "python",
   "pygments_lexer": "ipython3",
   "version": "3.9.7"
  }
 },
 "nbformat": 4,
 "nbformat_minor": 5
}
