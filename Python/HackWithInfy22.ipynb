{
 "cells": [
  {
   "cell_type": "markdown",
   "id": "15031467",
   "metadata": {},
   "source": [
    "### Replace elements"
   ]
  },
  {
   "cell_type": "code",
   "execution_count": 2,
   "id": "6424cfea",
   "metadata": {},
   "outputs": [
    {
     "name": "stdout",
     "output_type": "stream",
     "text": [
      "40\n",
      "2\n"
     ]
    }
   ],
   "source": [
    "def replace(arr, frm, to, n):\n",
    "    for i in range(n):\n",
    "        if arr[i] == frm:\n",
    "            arr[i] = to\n",
    "    return arr\n",
    "def replaceElements(N, A, B, C):\n",
    "    res = []\n",
    "    for i in range(N):\n",
    "        A = replace(A, B[i], C[i], N)\n",
    "        res.append(sum(A))\n",
    "    for ele in res:\n",
    "        print(ele)\n",
    "replaceElements(2, [20, 10], [10, 20], [20, 1])"
   ]
  },
  {
   "cell_type": "code",
   "execution_count": null,
   "id": "496e60b8",
   "metadata": {},
   "outputs": [],
   "source": []
  }
 ],
 "metadata": {
  "kernelspec": {
   "display_name": "Python 3 (ipykernel)",
   "language": "python",
   "name": "python3"
  },
  "language_info": {
   "codemirror_mode": {
    "name": "ipython",
    "version": 3
   },
   "file_extension": ".py",
   "mimetype": "text/x-python",
   "name": "python",
   "nbconvert_exporter": "python",
   "pygments_lexer": "ipython3",
   "version": "3.9.7"
  }
 },
 "nbformat": 4,
 "nbformat_minor": 5
}
