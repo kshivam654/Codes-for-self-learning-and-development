{
 "cells": [
  {
   "cell_type": "code",
   "execution_count": null,
   "id": "d45a9aea",
   "metadata": {},
   "outputs": [],
   "source": [
    "class BinaryTree:\n",
    "    def __init__(self, value, left=None, right=None):\n",
    "        self.value = value\n",
    "        self.left = left\n",
    "        self.right = right\n",
    "\n",
    "def findNodesDistanceK(tree, target, k):\n",
    "    nodesToParent = {}\n",
    "    populateNodeToParent(tree, nodesToParent)\n",
    "    targetNode = getNodeFromValue(target, tree, nodesToParent)\n",
    "\n",
    "def getNodeFromValue(value, tree, nodesToParent):\n",
    "    if tree.value = value:\n",
    "        return tree\n",
    "    nodeParent = nodesToParent[value]\n",
    "def populateNodeToParent(node, nodesToParent, parent=None):\n",
    "    if node:\n",
    "        nodesToParent[node.value] = parent\n",
    "        populateNodeToParent(node.left, nodesToParent, node)\n",
    "        populateNodeToParent(node.right, nodesToParent, node)"
   ]
  }
 ],
 "metadata": {
  "kernelspec": {
   "display_name": "Python 3 (ipykernel)",
   "language": "python",
   "name": "python3"
  },
  "language_info": {
   "codemirror_mode": {
    "name": "ipython",
    "version": 3
   },
   "file_extension": ".py",
   "mimetype": "text/x-python",
   "name": "python",
   "nbconvert_exporter": "python",
   "pygments_lexer": "ipython3",
   "version": "3.9.7"
  }
 },
 "nbformat": 4,
 "nbformat_minor": 5
}
