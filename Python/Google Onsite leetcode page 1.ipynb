{
 "cells": [
  {
   "cell_type": "markdown",
   "id": "bbd36d64",
   "metadata": {},
   "source": [
    "### Maximum fun"
   ]
  },
  {
   "cell_type": "code",
   "execution_count": 1,
   "id": "cde5e0e1",
   "metadata": {},
   "outputs": [],
   "source": [
    "def maximumFin4Cities(cityFun, connections):\n",
    "    graph = { i :[] for i in range(len(cityFun))}\n",
    "    \n",
    "    #build the src to dest connection in our flights graph and vice versa\n",
    "    for connection in connections:\n",
    "        src, dest = connection\n",
    "        graph[src].append(dest)\n",
    "        graph[dest].append(src)\n",
    "    ans = 0\n",
    "    \n",
    "    for i in range(len(connections)):\n",
    "        for j in range(len(connections)):\n",
    "            if i == j:\n",
    "                continue\n",
    "            ctr1, ctr2 = graph[i]\n",
    "            ctr3, ctr4 = graph[j]\n",
    "            cummulativeFun = sum(cityFun[city] for city in [ctr1, ctr2, ctr3, ctr4])\n",
    "            \n",
    "            if ctr1 != ctr3 and ctr != ctr4 and ctr2 != ctr3 and ctr2 != ctr4:\n",
    "                if ctr3 in graph[ctr1] or ctr4 in graph[ctr1] or ctr3 in graph[ctr2] or ctr4 in graph[ctr2]:\n",
    "                    ans = max(ans, cummulativeFun)\n",
    "    return ans"
   ]
  },
  {
   "cell_type": "markdown",
   "id": "cd23c590",
   "metadata": {},
   "source": [
    "### Restaurant Wait List"
   ]
  },
  {
   "cell_type": "markdown",
   "id": "ef6b44d1",
   "metadata": {},
   "source": [
    "Design a wait list for customers at restaurant:\n",
    "\n",
    "Add customers to wait list (for example: Bob, party of 4 people)\n",
    "Remove a customer from wait list\n",
    "Given a open table with N seats, remove and return the first customer party of size N\n",
    "Clarifications:\n",
    "\n",
    "10 unique table sizes\n",
    "Customer names unique\n",
    "FIFO if two parties have the same number of people\n",
    "Table with N seats must have exactly N people\n",
    "Ideal solution O(1) runtime for all 3 methods\n",
    "\n",
    "This was the only question in a 45 minute interview. Took me the entire time but I passed and got the on site.\n",
    "https://leetcode.com/discuss/interview-question/1779091/google-phone-interview-usa-restaurant-wait-list"
   ]
  },
  {
   "cell_type": "markdown",
   "id": "20103ee2",
   "metadata": {},
   "source": [
    "### Worse Commit"
   ]
  },
  {
   "cell_type": "code",
   "execution_count": 2,
   "id": "fd6ffc1d",
   "metadata": {},
   "outputs": [],
   "source": [
    "commits = [10,9,9,8,8,8,7]\n",
    "\n",
    "def worse_commit(left, right):\n",
    "    return commits[left] > commits[right]  \n",
    "\n",
    "\n",
    "def get_slow_commits(first, last):\n",
    "    commits = []\n",
    "    mid = first + (last - first) // 2\n",
    "\n",
    "    if last - first == 1: # only two elements\n",
    "        if worse_commit(first, last):\n",
    "            return [last]\n",
    "\n",
    "    if worse_commit(first, mid):\n",
    "        commits.extend(get_slow_commits(first, mid))\n",
    "    if worse_commit(mid, last):\n",
    "        commits.extend(get_slow_commits(mid, last))\n",
    "    return commits\n",
    "    \n",
    "\n",
    "assert get_slow_commits(0, len(commits)-1) == [1,3,6]"
   ]
  },
  {
   "cell_type": "markdown",
   "id": "a11a8f52",
   "metadata": {},
   "source": [
    "### Count swapable elements\n",
    "Given an array with intergers nums, count the number of distinct pairs where 0 <= i < j < length of array and nums[i] == nums[j] where you're allowed to swap two positions of nums[j] to make it equal to nums[i].\n",
    "```\n",
    "Example:\n",
    "[1, 23, 156, 4738, 321, 72992, 231, 651, 32]\n",
    "Result = 3\n",
    "Explanation:\n",
    "i = 1, nums[i] = 23, j = 8, nums[j] = 32, you can get 23 by swaping 3 and 2 postions in 32 (remeber only two swaps allowed)\n",
    "i = 2, nums[i] = 156, j = 7, nums[j] = 651, you can get 156 by swaping 1 and 6 postions in 651(remeber only two swaps allowed)\n",
    "i = 4, nums[i] = 321, j = 6, nums[j] = 231, you can get 321 by swaping 3 and 2 postions in 231(remeber only two swaps allowed)\n",
    "```"
   ]
  },
  {
   "cell_type": "code",
   "execution_count": null,
   "id": "b8e87d59",
   "metadata": {},
   "outputs": [],
   "source": []
  }
 ],
 "metadata": {
  "kernelspec": {
   "display_name": "Python 3 (ipykernel)",
   "language": "python",
   "name": "python3"
  },
  "language_info": {
   "codemirror_mode": {
    "name": "ipython",
    "version": 3
   },
   "file_extension": ".py",
   "mimetype": "text/x-python",
   "name": "python",
   "nbconvert_exporter": "python",
   "pygments_lexer": "ipython3",
   "version": "3.9.7"
  }
 },
 "nbformat": 4,
 "nbformat_minor": 5
}
