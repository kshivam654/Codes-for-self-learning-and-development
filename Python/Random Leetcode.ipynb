{
 "cells": [
  {
   "cell_type": "code",
   "execution_count": 25,
   "id": "71846407",
   "metadata": {},
   "outputs": [
    {
     "name": "stdout",
     "output_type": "stream",
     "text": [
      "[(-3, 2), (-2, 1), (-1, 3)]\n",
      "[(-2, 1), (-1, 3), (-2, 2)]\n",
      "[(-2, 2), (-1, 3), (-1, 1)]\n",
      "[(-1, 1), (-1, 3), (-1, 2)]\n",
      "[(-1, 2), (-1, 3)]\n",
      "[(-1, 3)]\n"
     ]
    }
   ],
   "source": [
    "import heapq\n",
    "from collections import Counter\n",
    "exams = [1,2,3,1,2,2]\n",
    "exams = [(-exams[ele], ele) for ele in dict(Counter(exams))]\n",
    "heapq.heapify(exams)\n",
    "ans = []\n",
    "while exams:\n",
    "    print(exams)\n",
    "    count, ele = heapq.heappop(exams)\n",
    "    if len(ans) == 0:\n",
    "        ans.append(ele) \n",
    "    else:\n",
    "        if ans[-1] == ele:\n",
    "            count2, ele2 = heapq.heappop(exams)\n",
    "            ans.append(ele2)\n",
    "            count2 += 1\n",
    "            if count2 != 0:\n",
    "                heapq.heappush(exams, (count2, ele2))\n",
    "        else:\n",
    "            ans.append(ele)\n",
    "    count += 1\n",
    "    if count != 0:\n",
    "        heapq.heappush(exams, (count, ele))"
   ]
  },
  {
   "cell_type": "code",
   "execution_count": 26,
   "id": "8c770a2c",
   "metadata": {},
   "outputs": [
    {
     "data": {
      "text/plain": [
       "[2, 1, 2, 1, 2, 3]"
      ]
     },
     "execution_count": 26,
     "metadata": {},
     "output_type": "execute_result"
    }
   ],
   "source": [
    "ans"
   ]
  },
  {
   "cell_type": "code",
   "execution_count": null,
   "id": "2cc1c794",
   "metadata": {},
   "outputs": [],
   "source": []
  }
 ],
 "metadata": {
  "kernelspec": {
   "display_name": "Python 3 (ipykernel)",
   "language": "python",
   "name": "python3"
  },
  "language_info": {
   "codemirror_mode": {
    "name": "ipython",
    "version": 3
   },
   "file_extension": ".py",
   "mimetype": "text/x-python",
   "name": "python",
   "nbconvert_exporter": "python",
   "pygments_lexer": "ipython3",
   "version": "3.9.7"
  }
 },
 "nbformat": 4,
 "nbformat_minor": 5
}
